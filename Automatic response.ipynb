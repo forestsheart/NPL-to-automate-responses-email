{
  "cells": [
    {
      "cell_type": "markdown",
      "metadata": {
        "id": "view-in-github",
        "colab_type": "text"
      },
      "source": [
        "<a href=\"https://colab.research.google.com/github/forestsheart/NPL-to-automate-responses-email/blob/main/Automatic%20response.ipynb\" target=\"_parent\"><img src=\"https://colab.research.google.com/assets/colab-badge.svg\" alt=\"Open In Colab\"/></a>"
      ]
    },
    {
      "cell_type": "code",
      "execution_count": 1,
      "metadata": {
        "colab": {
          "base_uri": "https://localhost:8080/"
        },
        "id": "U3LT4S-LF4Bt",
        "outputId": "9bd19d73-81c8-482f-df46-4630a4924faa"
      },
      "outputs": [
        {
          "output_type": "stream",
          "name": "stdout",
          "text": [
            "Collecting pdfplumber\n",
            "  Downloading pdfplumber-0.10.3-py3-none-any.whl (48 kB)\n",
            "\u001b[2K     \u001b[90m━━━━━━━━━━━━━━━━━━━━━━━━━━━━━━━━━━━━━━━━\u001b[0m \u001b[32m49.0/49.0 kB\u001b[0m \u001b[31m2.2 MB/s\u001b[0m eta \u001b[36m0:00:00\u001b[0m\n",
            "\u001b[?25hCollecting pdfminer.six==20221105 (from pdfplumber)\n",
            "  Downloading pdfminer.six-20221105-py3-none-any.whl (5.6 MB)\n",
            "\u001b[2K     \u001b[90m━━━━━━━━━━━━━━━━━━━━━━━━━━━━━━━━━━━━━━━━\u001b[0m \u001b[32m5.6/5.6 MB\u001b[0m \u001b[31m58.7 MB/s\u001b[0m eta \u001b[36m0:00:00\u001b[0m\n",
            "\u001b[?25hRequirement already satisfied: Pillow>=9.1 in /usr/local/lib/python3.10/dist-packages (from pdfplumber) (9.4.0)\n",
            "Collecting pypdfium2>=4.18.0 (from pdfplumber)\n",
            "  Downloading pypdfium2-4.24.0-py3-none-manylinux_2_17_x86_64.whl (3.0 MB)\n",
            "\u001b[2K     \u001b[90m━━━━━━━━━━━━━━━━━━━━━━━━━━━━━━━━━━━━━━━━\u001b[0m \u001b[32m3.0/3.0 MB\u001b[0m \u001b[31m78.8 MB/s\u001b[0m eta \u001b[36m0:00:00\u001b[0m\n",
            "\u001b[?25hRequirement already satisfied: charset-normalizer>=2.0.0 in /usr/local/lib/python3.10/dist-packages (from pdfminer.six==20221105->pdfplumber) (3.3.2)\n",
            "Requirement already satisfied: cryptography>=36.0.0 in /usr/local/lib/python3.10/dist-packages (from pdfminer.six==20221105->pdfplumber) (41.0.5)\n",
            "Requirement already satisfied: cffi>=1.12 in /usr/local/lib/python3.10/dist-packages (from cryptography>=36.0.0->pdfminer.six==20221105->pdfplumber) (1.16.0)\n",
            "Requirement already satisfied: pycparser in /usr/local/lib/python3.10/dist-packages (from cffi>=1.12->cryptography>=36.0.0->pdfminer.six==20221105->pdfplumber) (2.21)\n",
            "Installing collected packages: pypdfium2, pdfminer.six, pdfplumber\n",
            "Successfully installed pdfminer.six-20221105 pdfplumber-0.10.3 pypdfium2-4.24.0\n",
            "Collecting sodapy\n",
            "  Downloading sodapy-2.2.0-py2.py3-none-any.whl (15 kB)\n",
            "Requirement already satisfied: requests>=2.28.1 in /usr/local/lib/python3.10/dist-packages (from sodapy) (2.31.0)\n",
            "Requirement already satisfied: charset-normalizer<4,>=2 in /usr/local/lib/python3.10/dist-packages (from requests>=2.28.1->sodapy) (3.3.2)\n",
            "Requirement already satisfied: idna<4,>=2.5 in /usr/local/lib/python3.10/dist-packages (from requests>=2.28.1->sodapy) (3.4)\n",
            "Requirement already satisfied: urllib3<3,>=1.21.1 in /usr/local/lib/python3.10/dist-packages (from requests>=2.28.1->sodapy) (2.0.7)\n",
            "Requirement already satisfied: certifi>=2017.4.17 in /usr/local/lib/python3.10/dist-packages (from requests>=2.28.1->sodapy) (2023.7.22)\n",
            "Installing collected packages: sodapy\n",
            "Successfully installed sodapy-2.2.0\n",
            "Collecting unidecode\n",
            "  Downloading Unidecode-1.3.7-py3-none-any.whl (235 kB)\n",
            "\u001b[2K     \u001b[90m━━━━━━━━━━━━━━━━━━━━━━━━━━━━━━━━━━━━━━━━\u001b[0m \u001b[32m235.5/235.5 kB\u001b[0m \u001b[31m4.8 MB/s\u001b[0m eta \u001b[36m0:00:00\u001b[0m\n",
            "\u001b[?25hInstalling collected packages: unidecode\n",
            "Successfully installed unidecode-1.3.7\n",
            "Collecting reportlab\n",
            "  Downloading reportlab-4.0.7-py3-none-any.whl (1.9 MB)\n",
            "\u001b[2K     \u001b[90m━━━━━━━━━━━━━━━━━━━━━━━━━━━━━━━━━━━━━━━━\u001b[0m \u001b[32m1.9/1.9 MB\u001b[0m \u001b[31m8.3 MB/s\u001b[0m eta \u001b[36m0:00:00\u001b[0m\n",
            "\u001b[?25hRequirement already satisfied: pillow>=9.0.0 in /usr/local/lib/python3.10/dist-packages (from reportlab) (9.4.0)\n",
            "Installing collected packages: reportlab\n",
            "Successfully installed reportlab-4.0.7\n"
          ]
        }
      ],
      "source": [
        "!pip install pdfplumber #leer pdfs\n",
        "!pip install sodapy #extraer datos abiertos\n",
        "!pip install unidecode #limpieza de texto\n",
        "!pip install reportlab #libreria para crear pdfs"
      ]
    },
    {
      "cell_type": "code",
      "execution_count": 2,
      "metadata": {
        "id": "WcHzSsTYZmGb"
      },
      "outputs": [],
      "source": [
        "#conexión a google drive\n",
        "from pydrive.auth import GoogleAuth\n",
        "from pydrive.drive import GoogleDrive\n",
        "from google.colab import auth\n",
        "from oauth2client.client import GoogleCredentials\n",
        "# Montar Google Drive\n",
        "from google.colab import drive as gdrive\n",
        "#leer pdfs\n",
        "import pdfplumber\n",
        "#miselanius\n",
        "import os\n",
        "import pandas as pd\n"
      ]
    },
    {
      "cell_type": "markdown",
      "metadata": {
        "id": "D9myQ0dn_rbv"
      },
      "source": [
        "**Librerias para modelos maquinas de soporte vectorial**"
      ]
    },
    {
      "cell_type": "code",
      "execution_count": 3,
      "metadata": {
        "id": "bzMD-CfC_qKX"
      },
      "outputs": [],
      "source": [
        "import pandas as pd\n",
        "from sklearn.model_selection import train_test_split\n",
        "from sklearn.feature_extraction.text import TfidfVectorizer\n",
        "from sklearn.svm import SVC\n",
        "from sklearn.metrics import classification_report\n"
      ]
    },
    {
      "cell_type": "markdown",
      "metadata": {
        "id": "ohlk3Vv4XACK"
      },
      "source": [
        "**Conexión con google Drive**\n",
        "\n",
        "Se eligio google drive debido al mecanismo de obtención de los datos, los cuales deben ser descargados de una plataforma 1 a 1"
      ]
    },
    {
      "cell_type": "code",
      "execution_count": 4,
      "metadata": {
        "colab": {
          "base_uri": "https://localhost:8080/"
        },
        "id": "UUDMG7P5RAX3",
        "outputId": "bb475e84-c98d-4a1e-cf96-1ffcc711e92f"
      },
      "outputs": [
        {
          "output_type": "stream",
          "name": "stdout",
          "text": [
            "Mounted at /content/drive\n"
          ]
        }
      ],
      "source": [
        "# Autenticación\n",
        "auth.authenticate_user()\n",
        "gauth = GoogleAuth()\n",
        "gauth.credentials = GoogleCredentials.get_application_default()\n",
        "drive = GoogleDrive(gauth)\n",
        "gdrive.mount('/content/drive')\n"
      ]
    },
    {
      "cell_type": "markdown",
      "metadata": {
        "id": "3uWGy2GDXFFc"
      },
      "source": [
        "**Extraemos el id de la carpeta que contiene los pdf**"
      ]
    },
    {
      "cell_type": "code",
      "execution_count": 5,
      "metadata": {
        "colab": {
          "base_uri": "https://localhost:8080/"
        },
        "id": "eQBJLaSoF99H",
        "outputId": "77ef1060-d573-41a1-f88a-1e1001e8e498"
      },
      "outputs": [
        {
          "output_type": "stream",
          "name": "stdout",
          "text": [
            "El ID de la carpeta \"Peticiones de entrada\" es: 1zlL_BkNAC0UW27pI1Hihg7of6_HAS5No\n"
          ]
        }
      ],
      "source": [
        "# Obtener el ID de una carpeta por su nombre\n",
        "carpeta_nombre = 'Peticiones de entrada'\n",
        "query = f\"title = '{carpeta_nombre}' and mimeType = 'application/vnd.google-apps.folder' and trashed=false\"\n",
        "carpeta_lista = drive.ListFile({'q': query}).GetList()\n",
        "if carpeta_lista:\n",
        "    carpeta_id = carpeta_lista[0]['id']\n",
        "    print(f'El ID de la carpeta \"{carpeta_nombre}\" es: {carpeta_id}')\n",
        "else:\n",
        "    print(f'No se encontró una carpeta con el nombre \"{carpeta_nombre}\"')\n"
      ]
    },
    {
      "cell_type": "markdown",
      "metadata": {
        "id": "wH6C7xqwXfGU"
      },
      "source": [
        "**Extraemos texto de  los pdfs en la carpeta**"
      ]
    },
    {
      "cell_type": "code",
      "execution_count": null,
      "metadata": {
        "id": "gRwOOKaRFmbw"
      },
      "outputs": [],
      "source": [
        "# Ruta de la carpeta en tu Google Drive\n",
        "carpeta_id = carpeta_id\n",
        "# Obtener lista de archivos en la carpeta\n",
        "archivos = drive.ListFile({'q': f\"'{carpeta_id}' in parents and trashed=false\"}).GetList()\n",
        "\n",
        "# Crear un DataFrame para almacenar los resultados\n",
        "df_resultados = pd.DataFrame(columns=['Nombre del Archivo', 'Texto'])\n",
        "\n",
        "# Leer los PDFs\n",
        "for archivo in archivos:\n",
        "    if archivo['title'].endswith('.pdf'):\n",
        "        pdf_id = archivo['id']\n",
        "        pdf_nombre = archivo['title']\n",
        "\n",
        "        # Descargar el PDF\n",
        "        pdf_path = os.path.join('/content/drive/My Drive/', pdf_nombre)\n",
        "        archivo.GetContentFile(pdf_path)\n",
        "\n",
        "        with pdfplumber.open(pdf_path) as pdf:\n",
        "            texto = ''\n",
        "            for pagina in pdf.pages:\n",
        "                texto += pagina.extract_text()\n",
        "\n",
        "        # Agregar los resultados al DataFrame\n",
        "        df_resultados = df_resultados.append({'Nombre del Archivo': pdf_nombre[:-5], 'Texto': texto}, ignore_index=True)\n",
        "\n",
        "        # Eliminar el PDF después de leerlo (opcional)\n",
        "        os.remove(pdf_path)\n",
        "\n",
        "# Mostrar el DataFrame con los resultados\n",
        "print(df_resultados)\n"
      ]
    },
    {
      "cell_type": "markdown",
      "metadata": {
        "id": "Ob5puIITafeW"
      },
      "source": [
        "**Excluimos pdfs que no cumplen condiciones(Son imagenes)**\n",
        "\n",
        "Esta exclusión se realiza para simplificar los procedimientos y debido a que un analisis y extracción de texto de imagenes se sale de los alcances de un algoritmo NER en texto"
      ]
    },
    {
      "cell_type": "code",
      "execution_count": 7,
      "metadata": {
        "id": "BG7ZBOwPaabJ"
      },
      "outputs": [],
      "source": [
        "df_resultados=df_resultados[df_resultados['Texto'] != '']"
      ]
    },
    {
      "cell_type": "code",
      "execution_count": 8,
      "metadata": {
        "colab": {
          "base_uri": "https://localhost:8080/",
          "height": 423
        },
        "id": "F3MkFk8NftqW",
        "outputId": "d9a02ee7-c91f-47d2-e9ff-db3244c31703"
      },
      "outputs": [
        {
          "output_type": "execute_result",
          "data": {
            "text/plain": [
              "    Nombre del Archivo                                              Texto\n",
              "0         2023E1023525  RESPUESTA CEPD 800830147441823008 , 6800830147...\n",
              "1         2023E1010149  *00092694*\\nAl contestar cite Radicado 2023-2-...\n",
              "2         2022E1046913  Bogotá D.C., 29 de noviembre de 2022 2022\\nDoc...\n",
              "3         2022E1038056  EXT22-00082864\\nNlr. 817.001.328-9\\nTotoró, 23...\n",
              "4         2023E1026491  RV: SOLICITUD MEDIDA DE SUSPENSIÓN PROVISIONAL...\n",
              "..                 ...                                                ...\n",
              "510       2022E1050758  Denuncia delito ambiental parque Barrio Marsel...\n",
              "511       2022E1050550  Instituto Colombiano de Bienestar Familiar\\nCe...\n",
              "512       2022E1050689  29/12/22, 15:31 Correo: Servicio al Ciudadano ...\n",
              "513       2022E1050540  Calle 35 No. 7-25 Piso 7\\nBogotá D.C., Colombi...\n",
              "514       2022E1050501  Casos de abuso animal\\nWilliam Cantor <william...\n",
              "\n",
              "[440 rows x 2 columns]"
            ],
            "text/html": [
              "\n",
              "  <div id=\"df-b366f984-a639-4fcf-b9b4-b51b5411fdf2\" class=\"colab-df-container\">\n",
              "    <div>\n",
              "<style scoped>\n",
              "    .dataframe tbody tr th:only-of-type {\n",
              "        vertical-align: middle;\n",
              "    }\n",
              "\n",
              "    .dataframe tbody tr th {\n",
              "        vertical-align: top;\n",
              "    }\n",
              "\n",
              "    .dataframe thead th {\n",
              "        text-align: right;\n",
              "    }\n",
              "</style>\n",
              "<table border=\"1\" class=\"dataframe\">\n",
              "  <thead>\n",
              "    <tr style=\"text-align: right;\">\n",
              "      <th></th>\n",
              "      <th>Nombre del Archivo</th>\n",
              "      <th>Texto</th>\n",
              "    </tr>\n",
              "  </thead>\n",
              "  <tbody>\n",
              "    <tr>\n",
              "      <th>0</th>\n",
              "      <td>2023E1023525</td>\n",
              "      <td>RESPUESTA CEPD 800830147441823008 , 6800830147...</td>\n",
              "    </tr>\n",
              "    <tr>\n",
              "      <th>1</th>\n",
              "      <td>2023E1010149</td>\n",
              "      <td>*00092694*\\nAl contestar cite Radicado 2023-2-...</td>\n",
              "    </tr>\n",
              "    <tr>\n",
              "      <th>2</th>\n",
              "      <td>2022E1046913</td>\n",
              "      <td>Bogotá D.C., 29 de noviembre de 2022 2022\\nDoc...</td>\n",
              "    </tr>\n",
              "    <tr>\n",
              "      <th>3</th>\n",
              "      <td>2022E1038056</td>\n",
              "      <td>EXT22-00082864\\nNlr. 817.001.328-9\\nTotoró, 23...</td>\n",
              "    </tr>\n",
              "    <tr>\n",
              "      <th>4</th>\n",
              "      <td>2023E1026491</td>\n",
              "      <td>RV: SOLICITUD MEDIDA DE SUSPENSIÓN PROVISIONAL...</td>\n",
              "    </tr>\n",
              "    <tr>\n",
              "      <th>...</th>\n",
              "      <td>...</td>\n",
              "      <td>...</td>\n",
              "    </tr>\n",
              "    <tr>\n",
              "      <th>510</th>\n",
              "      <td>2022E1050758</td>\n",
              "      <td>Denuncia delito ambiental parque Barrio Marsel...</td>\n",
              "    </tr>\n",
              "    <tr>\n",
              "      <th>511</th>\n",
              "      <td>2022E1050550</td>\n",
              "      <td>Instituto Colombiano de Bienestar Familiar\\nCe...</td>\n",
              "    </tr>\n",
              "    <tr>\n",
              "      <th>512</th>\n",
              "      <td>2022E1050689</td>\n",
              "      <td>29/12/22, 15:31 Correo: Servicio al Ciudadano ...</td>\n",
              "    </tr>\n",
              "    <tr>\n",
              "      <th>513</th>\n",
              "      <td>2022E1050540</td>\n",
              "      <td>Calle 35 No. 7-25 Piso 7\\nBogotá D.C., Colombi...</td>\n",
              "    </tr>\n",
              "    <tr>\n",
              "      <th>514</th>\n",
              "      <td>2022E1050501</td>\n",
              "      <td>Casos de abuso animal\\nWilliam Cantor &lt;william...</td>\n",
              "    </tr>\n",
              "  </tbody>\n",
              "</table>\n",
              "<p>440 rows × 2 columns</p>\n",
              "</div>\n",
              "    <div class=\"colab-df-buttons\">\n",
              "\n",
              "  <div class=\"colab-df-container\">\n",
              "    <button class=\"colab-df-convert\" onclick=\"convertToInteractive('df-b366f984-a639-4fcf-b9b4-b51b5411fdf2')\"\n",
              "            title=\"Convert this dataframe to an interactive table.\"\n",
              "            style=\"display:none;\">\n",
              "\n",
              "  <svg xmlns=\"http://www.w3.org/2000/svg\" height=\"24px\" viewBox=\"0 -960 960 960\">\n",
              "    <path d=\"M120-120v-720h720v720H120Zm60-500h600v-160H180v160Zm220 220h160v-160H400v160Zm0 220h160v-160H400v160ZM180-400h160v-160H180v160Zm440 0h160v-160H620v160ZM180-180h160v-160H180v160Zm440 0h160v-160H620v160Z\"/>\n",
              "  </svg>\n",
              "    </button>\n",
              "\n",
              "  <style>\n",
              "    .colab-df-container {\n",
              "      display:flex;\n",
              "      gap: 12px;\n",
              "    }\n",
              "\n",
              "    .colab-df-convert {\n",
              "      background-color: #E8F0FE;\n",
              "      border: none;\n",
              "      border-radius: 50%;\n",
              "      cursor: pointer;\n",
              "      display: none;\n",
              "      fill: #1967D2;\n",
              "      height: 32px;\n",
              "      padding: 0 0 0 0;\n",
              "      width: 32px;\n",
              "    }\n",
              "\n",
              "    .colab-df-convert:hover {\n",
              "      background-color: #E2EBFA;\n",
              "      box-shadow: 0px 1px 2px rgba(60, 64, 67, 0.3), 0px 1px 3px 1px rgba(60, 64, 67, 0.15);\n",
              "      fill: #174EA6;\n",
              "    }\n",
              "\n",
              "    .colab-df-buttons div {\n",
              "      margin-bottom: 4px;\n",
              "    }\n",
              "\n",
              "    [theme=dark] .colab-df-convert {\n",
              "      background-color: #3B4455;\n",
              "      fill: #D2E3FC;\n",
              "    }\n",
              "\n",
              "    [theme=dark] .colab-df-convert:hover {\n",
              "      background-color: #434B5C;\n",
              "      box-shadow: 0px 1px 3px 1px rgba(0, 0, 0, 0.15);\n",
              "      filter: drop-shadow(0px 1px 2px rgba(0, 0, 0, 0.3));\n",
              "      fill: #FFFFFF;\n",
              "    }\n",
              "  </style>\n",
              "\n",
              "    <script>\n",
              "      const buttonEl =\n",
              "        document.querySelector('#df-b366f984-a639-4fcf-b9b4-b51b5411fdf2 button.colab-df-convert');\n",
              "      buttonEl.style.display =\n",
              "        google.colab.kernel.accessAllowed ? 'block' : 'none';\n",
              "\n",
              "      async function convertToInteractive(key) {\n",
              "        const element = document.querySelector('#df-b366f984-a639-4fcf-b9b4-b51b5411fdf2');\n",
              "        const dataTable =\n",
              "          await google.colab.kernel.invokeFunction('convertToInteractive',\n",
              "                                                    [key], {});\n",
              "        if (!dataTable) return;\n",
              "\n",
              "        const docLinkHtml = 'Like what you see? Visit the ' +\n",
              "          '<a target=\"_blank\" href=https://colab.research.google.com/notebooks/data_table.ipynb>data table notebook</a>'\n",
              "          + ' to learn more about interactive tables.';\n",
              "        element.innerHTML = '';\n",
              "        dataTable['output_type'] = 'display_data';\n",
              "        await google.colab.output.renderOutput(dataTable, element);\n",
              "        const docLink = document.createElement('div');\n",
              "        docLink.innerHTML = docLinkHtml;\n",
              "        element.appendChild(docLink);\n",
              "      }\n",
              "    </script>\n",
              "  </div>\n",
              "\n",
              "\n",
              "<div id=\"df-a9e4ac47-57c7-406a-8801-2bc921dc0b51\">\n",
              "  <button class=\"colab-df-quickchart\" onclick=\"quickchart('df-a9e4ac47-57c7-406a-8801-2bc921dc0b51')\"\n",
              "            title=\"Suggest charts\"\n",
              "            style=\"display:none;\">\n",
              "\n",
              "<svg xmlns=\"http://www.w3.org/2000/svg\" height=\"24px\"viewBox=\"0 0 24 24\"\n",
              "     width=\"24px\">\n",
              "    <g>\n",
              "        <path d=\"M19 3H5c-1.1 0-2 .9-2 2v14c0 1.1.9 2 2 2h14c1.1 0 2-.9 2-2V5c0-1.1-.9-2-2-2zM9 17H7v-7h2v7zm4 0h-2V7h2v10zm4 0h-2v-4h2v4z\"/>\n",
              "    </g>\n",
              "</svg>\n",
              "  </button>\n",
              "\n",
              "<style>\n",
              "  .colab-df-quickchart {\n",
              "      --bg-color: #E8F0FE;\n",
              "      --fill-color: #1967D2;\n",
              "      --hover-bg-color: #E2EBFA;\n",
              "      --hover-fill-color: #174EA6;\n",
              "      --disabled-fill-color: #AAA;\n",
              "      --disabled-bg-color: #DDD;\n",
              "  }\n",
              "\n",
              "  [theme=dark] .colab-df-quickchart {\n",
              "      --bg-color: #3B4455;\n",
              "      --fill-color: #D2E3FC;\n",
              "      --hover-bg-color: #434B5C;\n",
              "      --hover-fill-color: #FFFFFF;\n",
              "      --disabled-bg-color: #3B4455;\n",
              "      --disabled-fill-color: #666;\n",
              "  }\n",
              "\n",
              "  .colab-df-quickchart {\n",
              "    background-color: var(--bg-color);\n",
              "    border: none;\n",
              "    border-radius: 50%;\n",
              "    cursor: pointer;\n",
              "    display: none;\n",
              "    fill: var(--fill-color);\n",
              "    height: 32px;\n",
              "    padding: 0;\n",
              "    width: 32px;\n",
              "  }\n",
              "\n",
              "  .colab-df-quickchart:hover {\n",
              "    background-color: var(--hover-bg-color);\n",
              "    box-shadow: 0 1px 2px rgba(60, 64, 67, 0.3), 0 1px 3px 1px rgba(60, 64, 67, 0.15);\n",
              "    fill: var(--button-hover-fill-color);\n",
              "  }\n",
              "\n",
              "  .colab-df-quickchart-complete:disabled,\n",
              "  .colab-df-quickchart-complete:disabled:hover {\n",
              "    background-color: var(--disabled-bg-color);\n",
              "    fill: var(--disabled-fill-color);\n",
              "    box-shadow: none;\n",
              "  }\n",
              "\n",
              "  .colab-df-spinner {\n",
              "    border: 2px solid var(--fill-color);\n",
              "    border-color: transparent;\n",
              "    border-bottom-color: var(--fill-color);\n",
              "    animation:\n",
              "      spin 1s steps(1) infinite;\n",
              "  }\n",
              "\n",
              "  @keyframes spin {\n",
              "    0% {\n",
              "      border-color: transparent;\n",
              "      border-bottom-color: var(--fill-color);\n",
              "      border-left-color: var(--fill-color);\n",
              "    }\n",
              "    20% {\n",
              "      border-color: transparent;\n",
              "      border-left-color: var(--fill-color);\n",
              "      border-top-color: var(--fill-color);\n",
              "    }\n",
              "    30% {\n",
              "      border-color: transparent;\n",
              "      border-left-color: var(--fill-color);\n",
              "      border-top-color: var(--fill-color);\n",
              "      border-right-color: var(--fill-color);\n",
              "    }\n",
              "    40% {\n",
              "      border-color: transparent;\n",
              "      border-right-color: var(--fill-color);\n",
              "      border-top-color: var(--fill-color);\n",
              "    }\n",
              "    60% {\n",
              "      border-color: transparent;\n",
              "      border-right-color: var(--fill-color);\n",
              "    }\n",
              "    80% {\n",
              "      border-color: transparent;\n",
              "      border-right-color: var(--fill-color);\n",
              "      border-bottom-color: var(--fill-color);\n",
              "    }\n",
              "    90% {\n",
              "      border-color: transparent;\n",
              "      border-bottom-color: var(--fill-color);\n",
              "    }\n",
              "  }\n",
              "</style>\n",
              "\n",
              "  <script>\n",
              "    async function quickchart(key) {\n",
              "      const quickchartButtonEl =\n",
              "        document.querySelector('#' + key + ' button');\n",
              "      quickchartButtonEl.disabled = true;  // To prevent multiple clicks.\n",
              "      quickchartButtonEl.classList.add('colab-df-spinner');\n",
              "      try {\n",
              "        const charts = await google.colab.kernel.invokeFunction(\n",
              "            'suggestCharts', [key], {});\n",
              "      } catch (error) {\n",
              "        console.error('Error during call to suggestCharts:', error);\n",
              "      }\n",
              "      quickchartButtonEl.classList.remove('colab-df-spinner');\n",
              "      quickchartButtonEl.classList.add('colab-df-quickchart-complete');\n",
              "    }\n",
              "    (() => {\n",
              "      let quickchartButtonEl =\n",
              "        document.querySelector('#df-a9e4ac47-57c7-406a-8801-2bc921dc0b51 button');\n",
              "      quickchartButtonEl.style.display =\n",
              "        google.colab.kernel.accessAllowed ? 'block' : 'none';\n",
              "    })();\n",
              "  </script>\n",
              "</div>\n",
              "    </div>\n",
              "  </div>\n"
            ]
          },
          "metadata": {},
          "execution_count": 8
        }
      ],
      "source": [
        "df_resultados"
      ]
    },
    {
      "cell_type": "markdown",
      "metadata": {
        "id": "a_bVhjtSXrGK"
      },
      "source": [
        "**Cargamos las entidades a buscar dentro de los pdf(Departamentos)**\n",
        "Elegimos departamentos con entidades a buscar dentro de el texto debido a la relación geoespacial con los entidades a las cuales se realiza el traslado."
      ]
    },
    {
      "cell_type": "code",
      "execution_count": 9,
      "metadata": {
        "colab": {
          "base_uri": "https://localhost:8080/"
        },
        "id": "XEHREbkJGwph",
        "outputId": "6460a0e4-7a3d-4974-ee2e-26a1a2db71dc"
      },
      "outputs": [
        {
          "output_type": "stream",
          "name": "stderr",
          "text": [
            "WARNING:root:Requests made without an app_token will be subject to strict throttling limits.\n"
          ]
        }
      ],
      "source": [
        "import pandas as pd\n",
        "from sodapy import Socrata#conecion a datos abiertos\n",
        "client = Socrata(\"www.datos.gov.co\", None)\n",
        "results = client.get(\"xdk5-pm3f\", limit=2000)\n",
        "# Convert to pandas DataFrame\n",
        "municipio= pd.DataFrame.from_records(results)"
      ]
    },
    {
      "cell_type": "markdown",
      "metadata": {
        "id": "4nAiuGYNVmoz"
      },
      "source": [
        "**Limpieza textos:**\n",
        "En esta sección eliminaremos tildes, reemplazaremos mayusculas con minusculas"
      ]
    },
    {
      "cell_type": "code",
      "execution_count": 10,
      "metadata": {
        "id": "TMzzuLyhuMGh"
      },
      "outputs": [],
      "source": [
        "import pandas as pd\n",
        "from unidecode import unidecode\n",
        "#eliminamos caracteres especiales\n",
        "def limpiar_texto(texto):\n",
        "    return unidecode(texto)\n",
        "#quitar puntos, comas, tildes\n",
        "\n",
        "#municipio['municipio'] = municipio['municipio'].apply(limpiar_texto)\n",
        "municipio['departamento'] = municipio['departamento'].apply(limpiar_texto)\n",
        "df_resultados['Texto']=df_resultados['Texto'].apply(limpiar_texto)\n",
        "#solo nos quedamos con las letras\n",
        "import re\n",
        "df_resultados['Texto'] = df_resultados['Texto'].str.replace(r'[^a-zA-Z\\s]', '', regex=True)\n",
        "\n",
        "#cambiamos mayusculas por minusculas\n",
        "municipio['departamento'] = municipio['departamento'].str.lower()\n",
        "df_resultados['Texto']=df_resultados['Texto'].str.lower()\n",
        "\n",
        "\n",
        "#quitamos la frase de bogota\n",
        "df_resultados['Texto']=df_resultados['Texto'].str.replace(r'de\\s+bogot[aá]\\b', '', regex=True)"
      ]
    },
    {
      "cell_type": "markdown",
      "metadata": {
        "id": "DBiwWOLkYWHW"
      },
      "source": [
        "**Definimos función para encontrar entidades**"
      ]
    },
    {
      "cell_type": "code",
      "execution_count": 11,
      "metadata": {
        "id": "wedXjMhiJzTh"
      },
      "outputs": [],
      "source": [
        "#convertimos a lista para manejo\n",
        "departamento=municipio['departamento'].tolist()\n",
        "\n",
        "def encontrar_departamento(texto):\n",
        "    for palabra in departamento:\n",
        "        # Usamos re.search() con una expresión regular que busca la palabra (ignorando mayúsculas y minúsculas)\n",
        "        if re.search(r'\\b{}\\b'.format(re.escape(palabra)), texto, flags=re.IGNORECASE):\n",
        "            return palabra\n",
        "    return None\n"
      ]
    },
    {
      "cell_type": "markdown",
      "metadata": {
        "id": "iBv62EJqYkks"
      },
      "source": [
        "**Definimos función para encontrar entidad de manejo especial BOGOTA**"
      ]
    },
    {
      "cell_type": "code",
      "execution_count": 12,
      "metadata": {
        "id": "e7-N7GikYjjJ"
      },
      "outputs": [],
      "source": [
        "from pickle import NONE\n",
        "import pandas as pd\n",
        "\n",
        "def encontrar_bogota(texto, palabra):\n",
        "    # Dividir el texto en palabras\n",
        "    palabras = texto.split()\n",
        "    # Iterar sobre las palabras\n",
        "    for palabra_texto in palabras:\n",
        "        # Revisar si la palabra objetivo está contenida en la palabra del texto\n",
        "        if palabra.lower() in palabra_texto.lower():\n",
        "            return palabra\n",
        "    return None"
      ]
    },
    {
      "cell_type": "markdown",
      "metadata": {
        "id": "jWIwlWJRpNIL"
      },
      "source": [
        "**Aplicamos funciones para encontrar entidades(departamentos)**"
      ]
    },
    {
      "cell_type": "code",
      "execution_count": 13,
      "metadata": {
        "id": "i1AkfAGGvsWo"
      },
      "outputs": [],
      "source": [
        "df_resultados['departamento'] = df_resultados['Texto'].apply(encontrar_departamento)\n",
        "# Aplica la función a la columna 'texto' y crea una nueva columna 'encontrada'\n",
        "df_resultados['departamento_1'] = df_resultados['Texto'].apply(lambda x: encontrar_bogota(x, 'bogota'))\n",
        "\n",
        "# Llena los valores NA en 'departamento' con los valores de 'departamento_1'\n",
        "df_resultados['departamento'].fillna(df_resultados['departamento_1'], inplace=True)\n",
        "#df_resultados"
      ]
    },
    {
      "cell_type": "markdown",
      "metadata": {
        "id": "NTGTStaIpUqs"
      },
      "source": [
        "**buscamos la entidad departamento usando como proxy la entidad municipio** es decir, buscaremos el municipio en cada texto y si encontramos ese municipio buscamos el departamento al que ese municipio pertenece"
      ]
    },
    {
      "cell_type": "code",
      "execution_count": null,
      "metadata": {
        "id": "pzKAuGbGkIQk"
      },
      "outputs": [],
      "source": [
        "# Seleccionar las columnas 'municipio' y renombrar 'departamento' a 'departamento_2'\n",
        "municipio = municipio[['municipio', 'departamento']].rename(columns={'departamento': 'departamento_2'})"
      ]
    },
    {
      "cell_type": "code",
      "execution_count": null,
      "metadata": {
        "id": "iFC83hzkgfdx"
      },
      "outputs": [],
      "source": [
        "municipio['municipio'] = municipio['municipio'].apply(limpiar_texto)\n",
        "#quitamos mayusculas\n",
        "municipio['municipio'] = municipio['municipio'].str.lower()\n",
        "# Aplicar la función str.replace para quitar 'D.C' de la columna 'Texto'\n",
        "municipio['municipio'] = municipio['municipio'].str.replace(r'\\bD\\.C\\b', '', regex=True)"
      ]
    },
    {
      "cell_type": "code",
      "execution_count": null,
      "metadata": {
        "id": "BgemXl1-uy1v"
      },
      "outputs": [],
      "source": [
        "municipios = municipio['municipio'].tolist()\n",
        "#encontrar municipio\n",
        "def encontrar_municipio(texto):\n",
        "    for palabra in municipios:\n",
        "        # Usamos re.search() con una expresión regular que busca la palabra (ignorando mayúsculas y minúsculas)\n",
        "        if re.search(r'\\b{}\\b'.format(re.escape(palabra)), texto, flags=re.IGNORECASE):\n",
        "            return palabra\n",
        "    return None"
      ]
    },
    {
      "cell_type": "code",
      "execution_count": null,
      "metadata": {
        "id": "D7hMsZu5gwAF"
      },
      "outputs": [],
      "source": [
        "# Aplicamos la función a la columna 'b' de B para obtener la columna 'c'\n",
        "df_resultados['municipio'] = df_resultados['Texto'].apply(encontrar_municipio)"
      ]
    },
    {
      "cell_type": "code",
      "execution_count": null,
      "metadata": {
        "id": "CyPAaj-9gQwt"
      },
      "outputs": [],
      "source": [
        "df_resultados"
      ]
    },
    {
      "cell_type": "code",
      "execution_count": null,
      "metadata": {
        "id": "-3v3tQxbhUGD"
      },
      "outputs": [],
      "source": [
        "df_resultados.isna().sum()"
      ]
    },
    {
      "cell_type": "markdown",
      "metadata": {
        "id": "FdiRiNIntK1A"
      },
      "source": [
        "**Unimos los municipios a nuestras peticiones de entrada**"
      ]
    },
    {
      "cell_type": "code",
      "execution_count": null,
      "metadata": {
        "id": "RuTEnS-3k4YO"
      },
      "outputs": [],
      "source": [
        "df_resultados=pd.merge(df_resultados, municipio, on='municipio', how='left')"
      ]
    },
    {
      "cell_type": "markdown",
      "metadata": {
        "id": "4v48NWdWtVOF"
      },
      "source": [
        "**Si tenemos municipio pero no departamento tomamos el departamento del municipio**"
      ]
    },
    {
      "cell_type": "code",
      "execution_count": 21,
      "metadata": {
        "id": "yyj1tKzEyajv"
      },
      "outputs": [],
      "source": [
        "# Llena los valores NA en 'departamento' con los valores de 'departamento_1'\n",
        "df_resultados['departamento'].fillna(df_resultados['departamento_2'], inplace=True)"
      ]
    },
    {
      "cell_type": "code",
      "execution_count": null,
      "metadata": {
        "id": "FrTkjg61vf0r"
      },
      "outputs": [],
      "source": [
        "df_resultados=df_resultados[df_resultados['departamento'] != None]"
      ]
    },
    {
      "cell_type": "code",
      "execution_count": null,
      "metadata": {
        "id": "Z0H51GkSxjtU"
      },
      "outputs": [],
      "source": [
        "df_resultados=df_resultados[df_resultados['departamento'].notna()]"
      ]
    },
    {
      "cell_type": "markdown",
      "metadata": {
        "id": "-591msMFuCgR"
      },
      "source": [
        "**De las 353 peticiones de entrada encontramos departamento para 318**"
      ]
    },
    {
      "cell_type": "code",
      "execution_count": 24,
      "metadata": {
        "colab": {
          "base_uri": "https://localhost:8080/"
        },
        "id": "_2GJO-2elwD6",
        "outputId": "230140dc-432d-42cb-8620-f2a5baac80c3"
      },
      "outputs": [
        {
          "output_type": "execute_result",
          "data": {
            "text/plain": [
              "404"
            ]
          },
          "metadata": {},
          "execution_count": 24
        }
      ],
      "source": [
        "len(df_resultados['Nombre del Archivo'].unique())"
      ]
    },
    {
      "cell_type": "code",
      "execution_count": 25,
      "metadata": {
        "id": "xbXQRHu2zx8C"
      },
      "outputs": [],
      "source": [
        "df_resultados = df_resultados[['Nombre del Archivo', 'departamento','Texto']]"
      ]
    },
    {
      "cell_type": "code",
      "execution_count": 26,
      "metadata": {
        "id": "k_ISIpNsbBsd"
      },
      "outputs": [],
      "source": [
        "# Leer el archivo Excel\n",
        "control_salida_2022 = pd.ExcelFile('/content/drive/MyDrive/Traslados por competencia/CONTROL DE TRASLADOS 2022.xlsx')\n"
      ]
    },
    {
      "cell_type": "markdown",
      "metadata": {
        "id": "IbEs04qZuWwY"
      },
      "source": [
        "**traemos las entidades de salida**"
      ]
    },
    {
      "cell_type": "code",
      "execution_count": null,
      "metadata": {
        "id": "mmUoy02b9H9L"
      },
      "outputs": [],
      "source": [
        "# Columnas que deseas buscar\n",
        "columna_1 = 'NUMERO DE RADICADO DE ENTRADA'   # Cambia 'Nombre' por el nombre de tu primera columna\n",
        "#columna_2 = 'GRUPO DE ENTIDAD'\n",
        "columna_3 = 'ENTIDAD DE TRASLADO '\n",
        "\n",
        "#########2022\n",
        "control_salida_2022_df = []\n",
        "\n",
        "# Iterar sobre las hojas y buscar los valores\n",
        "for sheet_name in control_salida_2022.sheet_names:\n",
        "    df = pd.read_excel(control_salida_2022, sheet_name)\n",
        "    control_salida_2022_df.extend(df[[columna_1,# columna_2,\n",
        "                                      columna_3]].values.tolist())\n",
        "\n",
        "# Crear un nuevo DataFrame con los resultados\n",
        "control_salida_2022_df = pd.DataFrame(control_salida_2022_df, columns=[columna_1, columna_3])\n",
        "\n",
        "control_salida_2022_df['NUMERO DE RADICADO DE ENTRADA']=control_salida_2022_df['NUMERO DE RADICADO DE ENTRADA'].str.split().str[0]#.unique()\n",
        "\n",
        "patrones = ['ciudadano', 'señores','ciudadanos']\n",
        "\n",
        "# Crear un patrón regex que coincida con cualquier variación de los patrones en la lista\n",
        "patron_regex = '|'.join(r'\\b{}\\b'.format(re.escape(patron)) for patron in patrones)\n",
        "\n",
        "# Filtrar el DataFrame usando el patrón regex\n",
        "control_salida_2022_df = control_salida_2022_df[~control_salida_2022_df['ENTIDAD DE TRASLADO '].str.contains(patron_regex, case=False, na=False)]\n",
        "control_salida_2022_df ['NUMERO DE RADICADO DE ENTRADA'] = control_salida_2022_df ['NUMERO DE RADICADO DE ENTRADA'] .str.replace(',', '')\n",
        "\n",
        "control_salida_2022_df=control_salida_2022_df.drop_duplicates()\n"
      ]
    },
    {
      "cell_type": "code",
      "execution_count": 28,
      "metadata": {
        "colab": {
          "base_uri": "https://localhost:8080/"
        },
        "id": "ULAZaEoElo1X",
        "outputId": "fe566173-628e-4fd3-b634-aefeba3846be"
      },
      "outputs": [
        {
          "output_type": "stream",
          "name": "stderr",
          "text": [
            "/usr/local/lib/python3.10/dist-packages/openpyxl/worksheet/_reader.py:329: UserWarning: Data Validation extension is not supported and will be removed\n",
            "  warn(msg)\n",
            "/usr/local/lib/python3.10/dist-packages/openpyxl/worksheet/_reader.py:329: UserWarning: Data Validation extension is not supported and will be removed\n",
            "  warn(msg)\n",
            "/usr/local/lib/python3.10/dist-packages/openpyxl/worksheet/_reader.py:329: UserWarning: Data Validation extension is not supported and will be removed\n",
            "  warn(msg)\n"
          ]
        }
      ],
      "source": [
        "control_salida_2023 = pd.ExcelFile('/content/drive/MyDrive/Traslados por competencia/CONTROL DE SALIDA DE TRASLADOS  2023.xlsx')\n",
        "# Columnas que deseas buscar\n",
        "columna_1 = 'NUMERO DE RADICADO DE ENTRADA'   # Cambia 'Nombre' por el nombre de tu primera columna\n",
        "#columna_2 = 'GRUPO DE ENTIDAD'\n",
        "columna_3 = 'ENTIDAD DE TRASLADO '\n",
        "#creamos df\n",
        "control_salida_2023_df = []\n",
        "\n",
        "# Iterar sobre las hojas y buscar los valores\n",
        "\n",
        "for sheet_name in ['ENE - FEB','MARZ - ABRI','MAY - JUN']:\n",
        "   try:\n",
        "      df = pd.read_excel(control_salida_2023, sheet_name#,header=1\n",
        "                         )\n",
        "      control_salida_2023_df.extend(df[[columna_1,# columna_2,\n",
        "                                      columna_3]].values.tolist())\n",
        "   except:\n",
        "           pass\n",
        "\n",
        "# Crear un nuevo DataFrame con los resultados\n",
        "control_salida_2023_df = pd.DataFrame(control_salida_2023_df, columns=[columna_1, columna_3])\n",
        "\n",
        "#control_salida_2023_df['NUMERO DE RADICADO DE ENTRADA']=control_salida_2022_df['NUMERO DE RADICADO DE ENTRADA'].str.split().str[0]#.unique()\n",
        "\n",
        "patrones = ['ciudadano', 'señores','ciudadanos']\n",
        "\n",
        "# Crear un patrón regex que coincida con cualquier variación de los patrones en la lista\n",
        "patron_regex = '|'.join(r'\\b{}\\b'.format(re.escape(patron)) for patron in patrones)\n",
        "\n",
        "# Filtrar el DataFrame usando el patrón regex\n",
        "control_salida_2023_df = control_salida_2023_df[~control_salida_2023_df['ENTIDAD DE TRASLADO '].str.contains(patron_regex, case=False, na=False)]\n",
        "#control_salida_2023_df ['NUMERO DE RADICADO DE ENTRADA'] = control_salida_2023_df ['NUMERO DE RADICADO DE ENTRADA'] .str.replace(',', '')\n",
        "#eliminar duplicadors\n",
        "control_salida_2023_df=control_salida_2023_df.drop_duplicates()\n"
      ]
    },
    {
      "cell_type": "code",
      "execution_count": null,
      "metadata": {
        "id": "aZm91oiPpB62"
      },
      "outputs": [],
      "source": [
        "# Concatenar verticalmente los DataFrames\n",
        "control_salida_df = pd.concat([control_salida_2022_df, control_salida_2023_df], axis=0)\n",
        "\n",
        "# Reiniciar los índices si es necesario\n",
        "control_salida_df = control_salida_df.reset_index(drop=True)"
      ]
    },
    {
      "cell_type": "code",
      "execution_count": null,
      "metadata": {
        "id": "InBmtsnMrGfY"
      },
      "outputs": [],
      "source": [
        "control_salida_df= control_salida_df[control_salida_df['NUMERO DE RADICADO DE ENTRADA'].notna()]"
      ]
    },
    {
      "cell_type": "code",
      "execution_count": null,
      "metadata": {
        "id": "GviNwy7_s49x"
      },
      "outputs": [],
      "source": [
        "control_salida_df['ENTIDAD DE TRASLADO '].nunique()#.value_counts())"
      ]
    },
    {
      "cell_type": "code",
      "execution_count": null,
      "metadata": {
        "id": "fNQfeHxgDEm6"
      },
      "outputs": [],
      "source": [
        "df_resultados['NUMERO DE RADICADO DE ENTRADA']=df_resultados['Nombre del Archivo']"
      ]
    },
    {
      "cell_type": "code",
      "execution_count": null,
      "metadata": {
        "id": "CAPrixzmDaVr"
      },
      "outputs": [],
      "source": [
        "df_resultados=pd.merge(df_resultados, control_salida_df, on='NUMERO DE RADICADO DE ENTRADA', how='left')"
      ]
    },
    {
      "cell_type": "code",
      "execution_count": null,
      "metadata": {
        "id": "BYn-Eir2DM2l"
      },
      "outputs": [],
      "source": [
        "df_resultados['ENTIDAD DE TRASLADO '].nunique()#.value_counts())"
      ]
    },
    {
      "cell_type": "code",
      "execution_count": null,
      "metadata": {
        "id": "ybHLMFgeWv_y"
      },
      "outputs": [],
      "source": [
        "df_resultados=df_resultados.drop_duplicates(subset=['Nombre del Archivo', 'ENTIDAD DE TRASLADO '])#.isna().sum()"
      ]
    },
    {
      "cell_type": "code",
      "execution_count": null,
      "metadata": {
        "id": "84moefY0NNmF"
      },
      "outputs": [],
      "source": [
        "df_resultados"
      ]
    },
    {
      "cell_type": "code",
      "execution_count": 37,
      "metadata": {
        "id": "v0uBeQadW91d"
      },
      "outputs": [],
      "source": [
        "df_resultados=df_resultados[df_resultados['ENTIDAD DE TRASLADO '].notna()]"
      ]
    },
    {
      "cell_type": "markdown",
      "metadata": {
        "id": "kwOxwwftOoJu"
      },
      "source": [
        "**A partir de aqui empezamos a la deteción de la entidad a la cual trasladar**\n",
        "primero nos quedamos con las solicitudes de las 4 entidades de interes"
      ]
    },
    {
      "cell_type": "code",
      "execution_count": 38,
      "metadata": {
        "colab": {
          "base_uri": "https://localhost:8080/",
          "height": 614
        },
        "id": "_dthFPervBS-",
        "outputId": "c7f9cafd-5625-4d30-a1a4-5400f9bffb73"
      },
      "outputs": [
        {
          "output_type": "execute_result",
          "data": {
            "text/plain": [
              "    Nombre del Archivo  departamento  \\\n",
              "1         2023E1010149         cauca   \n",
              "2         2023E1010149         cauca   \n",
              "3         2022E1046913        boyaca   \n",
              "4         2022E1046913        boyaca   \n",
              "12        2023E1026491       cordoba   \n",
              "..                 ...           ...   \n",
              "876       2022E1050800        bogota   \n",
              "877       2022E1050659        bogota   \n",
              "882       2022E1050808         cesar   \n",
              "891       2022E1050540          meta   \n",
              "897       2022E1050501  cundinamarca   \n",
              "\n",
              "                                                 Texto  \\\n",
              "1    \\nal contestar cite radicado  id \\nf o l i o s...   \n",
              "2    \\nal contestar cite radicado  id \\nf o l i o s...   \n",
              "3    bogota dc  de noviembre de  \\ndoctora\\nirene v...   \n",
              "4    bogota dc  de noviembre de  \\ndoctora\\nirene v...   \n",
              "12   rv solicitud medida de suspension provisional ...   \n",
              "..                                                 ...   \n",
              "876  radicado ndeg e\\n      folios na web anexos \\n...   \n",
              "877  ofi  gfpu\\nbogota dc  de diciembre de \\nofi  g...   \n",
              "882  ofi  gfpu\\nbogota dc  de diciembre de \\nofi  g...   \n",
              "891  calle  no  piso \\nbogota dc colombia\\npbx  \\nw...   \n",
              "897  casos de abuso animal\\nwilliam cantor williamc...   \n",
              "\n",
              "    NUMERO DE RADICADO DE ENTRADA  \\\n",
              "1                    2023E1010149   \n",
              "2                    2023E1010149   \n",
              "3                    2022E1046913   \n",
              "4                    2022E1046913   \n",
              "12                   2023E1026491   \n",
              "..                            ...   \n",
              "876                  2022E1050800   \n",
              "877                  2022E1050659   \n",
              "882                  2022E1050808   \n",
              "891                  2022E1050540   \n",
              "897                  2022E1050501   \n",
              "\n",
              "                                  ENTIDAD DE TRASLADO   \n",
              "1        Corporación Autónoma Regional del Cauca - CRC  \n",
              "2      Parques Nacionales Naturales de Colombia - PNNC  \n",
              "3    Autoridad Nacional de Licencias Ambientales – ...  \n",
              "4    Corporación Autónoma Regional de Boyacá – CORP...  \n",
              "12    Autoridad Nacional de Licencias Ambientales ANLA  \n",
              "..                                                 ...  \n",
              "876  Corporación Autónoma Regional de la Frontera N...  \n",
              "877   Autoridad Nacional de Licencias Ambientales ANLA  \n",
              "882  Corporación Autónoma Regional del Alto Magdale...  \n",
              "891   Autoridad Nacional de Licencias Ambientales ANLA  \n",
              "897  Corporación Autónoma Regional de Cundinamarca ...  \n",
              "\n",
              "[300 rows x 5 columns]"
            ],
            "text/html": [
              "\n",
              "  <div id=\"df-38d454e0-bb15-4bc5-8d07-ab7e057ebf16\" class=\"colab-df-container\">\n",
              "    <div>\n",
              "<style scoped>\n",
              "    .dataframe tbody tr th:only-of-type {\n",
              "        vertical-align: middle;\n",
              "    }\n",
              "\n",
              "    .dataframe tbody tr th {\n",
              "        vertical-align: top;\n",
              "    }\n",
              "\n",
              "    .dataframe thead th {\n",
              "        text-align: right;\n",
              "    }\n",
              "</style>\n",
              "<table border=\"1\" class=\"dataframe\">\n",
              "  <thead>\n",
              "    <tr style=\"text-align: right;\">\n",
              "      <th></th>\n",
              "      <th>Nombre del Archivo</th>\n",
              "      <th>departamento</th>\n",
              "      <th>Texto</th>\n",
              "      <th>NUMERO DE RADICADO DE ENTRADA</th>\n",
              "      <th>ENTIDAD DE TRASLADO</th>\n",
              "    </tr>\n",
              "  </thead>\n",
              "  <tbody>\n",
              "    <tr>\n",
              "      <th>1</th>\n",
              "      <td>2023E1010149</td>\n",
              "      <td>cauca</td>\n",
              "      <td>\\nal contestar cite radicado  id \\nf o l i o s...</td>\n",
              "      <td>2023E1010149</td>\n",
              "      <td>Corporación Autónoma Regional del Cauca - CRC</td>\n",
              "    </tr>\n",
              "    <tr>\n",
              "      <th>2</th>\n",
              "      <td>2023E1010149</td>\n",
              "      <td>cauca</td>\n",
              "      <td>\\nal contestar cite radicado  id \\nf o l i o s...</td>\n",
              "      <td>2023E1010149</td>\n",
              "      <td>Parques Nacionales Naturales de Colombia - PNNC</td>\n",
              "    </tr>\n",
              "    <tr>\n",
              "      <th>3</th>\n",
              "      <td>2022E1046913</td>\n",
              "      <td>boyaca</td>\n",
              "      <td>bogota dc  de noviembre de  \\ndoctora\\nirene v...</td>\n",
              "      <td>2022E1046913</td>\n",
              "      <td>Autoridad Nacional de Licencias Ambientales – ...</td>\n",
              "    </tr>\n",
              "    <tr>\n",
              "      <th>4</th>\n",
              "      <td>2022E1046913</td>\n",
              "      <td>boyaca</td>\n",
              "      <td>bogota dc  de noviembre de  \\ndoctora\\nirene v...</td>\n",
              "      <td>2022E1046913</td>\n",
              "      <td>Corporación Autónoma Regional de Boyacá – CORP...</td>\n",
              "    </tr>\n",
              "    <tr>\n",
              "      <th>12</th>\n",
              "      <td>2023E1026491</td>\n",
              "      <td>cordoba</td>\n",
              "      <td>rv solicitud medida de suspension provisional ...</td>\n",
              "      <td>2023E1026491</td>\n",
              "      <td>Autoridad Nacional de Licencias Ambientales ANLA</td>\n",
              "    </tr>\n",
              "    <tr>\n",
              "      <th>...</th>\n",
              "      <td>...</td>\n",
              "      <td>...</td>\n",
              "      <td>...</td>\n",
              "      <td>...</td>\n",
              "      <td>...</td>\n",
              "    </tr>\n",
              "    <tr>\n",
              "      <th>876</th>\n",
              "      <td>2022E1050800</td>\n",
              "      <td>bogota</td>\n",
              "      <td>radicado ndeg e\\n      folios na web anexos \\n...</td>\n",
              "      <td>2022E1050800</td>\n",
              "      <td>Corporación Autónoma Regional de la Frontera N...</td>\n",
              "    </tr>\n",
              "    <tr>\n",
              "      <th>877</th>\n",
              "      <td>2022E1050659</td>\n",
              "      <td>bogota</td>\n",
              "      <td>ofi  gfpu\\nbogota dc  de diciembre de \\nofi  g...</td>\n",
              "      <td>2022E1050659</td>\n",
              "      <td>Autoridad Nacional de Licencias Ambientales ANLA</td>\n",
              "    </tr>\n",
              "    <tr>\n",
              "      <th>882</th>\n",
              "      <td>2022E1050808</td>\n",
              "      <td>cesar</td>\n",
              "      <td>ofi  gfpu\\nbogota dc  de diciembre de \\nofi  g...</td>\n",
              "      <td>2022E1050808</td>\n",
              "      <td>Corporación Autónoma Regional del Alto Magdale...</td>\n",
              "    </tr>\n",
              "    <tr>\n",
              "      <th>891</th>\n",
              "      <td>2022E1050540</td>\n",
              "      <td>meta</td>\n",
              "      <td>calle  no  piso \\nbogota dc colombia\\npbx  \\nw...</td>\n",
              "      <td>2022E1050540</td>\n",
              "      <td>Autoridad Nacional de Licencias Ambientales ANLA</td>\n",
              "    </tr>\n",
              "    <tr>\n",
              "      <th>897</th>\n",
              "      <td>2022E1050501</td>\n",
              "      <td>cundinamarca</td>\n",
              "      <td>casos de abuso animal\\nwilliam cantor williamc...</td>\n",
              "      <td>2022E1050501</td>\n",
              "      <td>Corporación Autónoma Regional de Cundinamarca ...</td>\n",
              "    </tr>\n",
              "  </tbody>\n",
              "</table>\n",
              "<p>300 rows × 5 columns</p>\n",
              "</div>\n",
              "    <div class=\"colab-df-buttons\">\n",
              "\n",
              "  <div class=\"colab-df-container\">\n",
              "    <button class=\"colab-df-convert\" onclick=\"convertToInteractive('df-38d454e0-bb15-4bc5-8d07-ab7e057ebf16')\"\n",
              "            title=\"Convert this dataframe to an interactive table.\"\n",
              "            style=\"display:none;\">\n",
              "\n",
              "  <svg xmlns=\"http://www.w3.org/2000/svg\" height=\"24px\" viewBox=\"0 -960 960 960\">\n",
              "    <path d=\"M120-120v-720h720v720H120Zm60-500h600v-160H180v160Zm220 220h160v-160H400v160Zm0 220h160v-160H400v160ZM180-400h160v-160H180v160Zm440 0h160v-160H620v160ZM180-180h160v-160H180v160Zm440 0h160v-160H620v160Z\"/>\n",
              "  </svg>\n",
              "    </button>\n",
              "\n",
              "  <style>\n",
              "    .colab-df-container {\n",
              "      display:flex;\n",
              "      gap: 12px;\n",
              "    }\n",
              "\n",
              "    .colab-df-convert {\n",
              "      background-color: #E8F0FE;\n",
              "      border: none;\n",
              "      border-radius: 50%;\n",
              "      cursor: pointer;\n",
              "      display: none;\n",
              "      fill: #1967D2;\n",
              "      height: 32px;\n",
              "      padding: 0 0 0 0;\n",
              "      width: 32px;\n",
              "    }\n",
              "\n",
              "    .colab-df-convert:hover {\n",
              "      background-color: #E2EBFA;\n",
              "      box-shadow: 0px 1px 2px rgba(60, 64, 67, 0.3), 0px 1px 3px 1px rgba(60, 64, 67, 0.15);\n",
              "      fill: #174EA6;\n",
              "    }\n",
              "\n",
              "    .colab-df-buttons div {\n",
              "      margin-bottom: 4px;\n",
              "    }\n",
              "\n",
              "    [theme=dark] .colab-df-convert {\n",
              "      background-color: #3B4455;\n",
              "      fill: #D2E3FC;\n",
              "    }\n",
              "\n",
              "    [theme=dark] .colab-df-convert:hover {\n",
              "      background-color: #434B5C;\n",
              "      box-shadow: 0px 1px 3px 1px rgba(0, 0, 0, 0.15);\n",
              "      filter: drop-shadow(0px 1px 2px rgba(0, 0, 0, 0.3));\n",
              "      fill: #FFFFFF;\n",
              "    }\n",
              "  </style>\n",
              "\n",
              "    <script>\n",
              "      const buttonEl =\n",
              "        document.querySelector('#df-38d454e0-bb15-4bc5-8d07-ab7e057ebf16 button.colab-df-convert');\n",
              "      buttonEl.style.display =\n",
              "        google.colab.kernel.accessAllowed ? 'block' : 'none';\n",
              "\n",
              "      async function convertToInteractive(key) {\n",
              "        const element = document.querySelector('#df-38d454e0-bb15-4bc5-8d07-ab7e057ebf16');\n",
              "        const dataTable =\n",
              "          await google.colab.kernel.invokeFunction('convertToInteractive',\n",
              "                                                    [key], {});\n",
              "        if (!dataTable) return;\n",
              "\n",
              "        const docLinkHtml = 'Like what you see? Visit the ' +\n",
              "          '<a target=\"_blank\" href=https://colab.research.google.com/notebooks/data_table.ipynb>data table notebook</a>'\n",
              "          + ' to learn more about interactive tables.';\n",
              "        element.innerHTML = '';\n",
              "        dataTable['output_type'] = 'display_data';\n",
              "        await google.colab.output.renderOutput(dataTable, element);\n",
              "        const docLink = document.createElement('div');\n",
              "        docLink.innerHTML = docLinkHtml;\n",
              "        element.appendChild(docLink);\n",
              "      }\n",
              "    </script>\n",
              "  </div>\n",
              "\n",
              "\n",
              "<div id=\"df-dcaca3bf-2b03-42c3-9d9a-d49c5c0b8e93\">\n",
              "  <button class=\"colab-df-quickchart\" onclick=\"quickchart('df-dcaca3bf-2b03-42c3-9d9a-d49c5c0b8e93')\"\n",
              "            title=\"Suggest charts\"\n",
              "            style=\"display:none;\">\n",
              "\n",
              "<svg xmlns=\"http://www.w3.org/2000/svg\" height=\"24px\"viewBox=\"0 0 24 24\"\n",
              "     width=\"24px\">\n",
              "    <g>\n",
              "        <path d=\"M19 3H5c-1.1 0-2 .9-2 2v14c0 1.1.9 2 2 2h14c1.1 0 2-.9 2-2V5c0-1.1-.9-2-2-2zM9 17H7v-7h2v7zm4 0h-2V7h2v10zm4 0h-2v-4h2v4z\"/>\n",
              "    </g>\n",
              "</svg>\n",
              "  </button>\n",
              "\n",
              "<style>\n",
              "  .colab-df-quickchart {\n",
              "      --bg-color: #E8F0FE;\n",
              "      --fill-color: #1967D2;\n",
              "      --hover-bg-color: #E2EBFA;\n",
              "      --hover-fill-color: #174EA6;\n",
              "      --disabled-fill-color: #AAA;\n",
              "      --disabled-bg-color: #DDD;\n",
              "  }\n",
              "\n",
              "  [theme=dark] .colab-df-quickchart {\n",
              "      --bg-color: #3B4455;\n",
              "      --fill-color: #D2E3FC;\n",
              "      --hover-bg-color: #434B5C;\n",
              "      --hover-fill-color: #FFFFFF;\n",
              "      --disabled-bg-color: #3B4455;\n",
              "      --disabled-fill-color: #666;\n",
              "  }\n",
              "\n",
              "  .colab-df-quickchart {\n",
              "    background-color: var(--bg-color);\n",
              "    border: none;\n",
              "    border-radius: 50%;\n",
              "    cursor: pointer;\n",
              "    display: none;\n",
              "    fill: var(--fill-color);\n",
              "    height: 32px;\n",
              "    padding: 0;\n",
              "    width: 32px;\n",
              "  }\n",
              "\n",
              "  .colab-df-quickchart:hover {\n",
              "    background-color: var(--hover-bg-color);\n",
              "    box-shadow: 0 1px 2px rgba(60, 64, 67, 0.3), 0 1px 3px 1px rgba(60, 64, 67, 0.15);\n",
              "    fill: var(--button-hover-fill-color);\n",
              "  }\n",
              "\n",
              "  .colab-df-quickchart-complete:disabled,\n",
              "  .colab-df-quickchart-complete:disabled:hover {\n",
              "    background-color: var(--disabled-bg-color);\n",
              "    fill: var(--disabled-fill-color);\n",
              "    box-shadow: none;\n",
              "  }\n",
              "\n",
              "  .colab-df-spinner {\n",
              "    border: 2px solid var(--fill-color);\n",
              "    border-color: transparent;\n",
              "    border-bottom-color: var(--fill-color);\n",
              "    animation:\n",
              "      spin 1s steps(1) infinite;\n",
              "  }\n",
              "\n",
              "  @keyframes spin {\n",
              "    0% {\n",
              "      border-color: transparent;\n",
              "      border-bottom-color: var(--fill-color);\n",
              "      border-left-color: var(--fill-color);\n",
              "    }\n",
              "    20% {\n",
              "      border-color: transparent;\n",
              "      border-left-color: var(--fill-color);\n",
              "      border-top-color: var(--fill-color);\n",
              "    }\n",
              "    30% {\n",
              "      border-color: transparent;\n",
              "      border-left-color: var(--fill-color);\n",
              "      border-top-color: var(--fill-color);\n",
              "      border-right-color: var(--fill-color);\n",
              "    }\n",
              "    40% {\n",
              "      border-color: transparent;\n",
              "      border-right-color: var(--fill-color);\n",
              "      border-top-color: var(--fill-color);\n",
              "    }\n",
              "    60% {\n",
              "      border-color: transparent;\n",
              "      border-right-color: var(--fill-color);\n",
              "    }\n",
              "    80% {\n",
              "      border-color: transparent;\n",
              "      border-right-color: var(--fill-color);\n",
              "      border-bottom-color: var(--fill-color);\n",
              "    }\n",
              "    90% {\n",
              "      border-color: transparent;\n",
              "      border-bottom-color: var(--fill-color);\n",
              "    }\n",
              "  }\n",
              "</style>\n",
              "\n",
              "  <script>\n",
              "    async function quickchart(key) {\n",
              "      const quickchartButtonEl =\n",
              "        document.querySelector('#' + key + ' button');\n",
              "      quickchartButtonEl.disabled = true;  // To prevent multiple clicks.\n",
              "      quickchartButtonEl.classList.add('colab-df-spinner');\n",
              "      try {\n",
              "        const charts = await google.colab.kernel.invokeFunction(\n",
              "            'suggestCharts', [key], {});\n",
              "      } catch (error) {\n",
              "        console.error('Error during call to suggestCharts:', error);\n",
              "      }\n",
              "      quickchartButtonEl.classList.remove('colab-df-spinner');\n",
              "      quickchartButtonEl.classList.add('colab-df-quickchart-complete');\n",
              "    }\n",
              "    (() => {\n",
              "      let quickchartButtonEl =\n",
              "        document.querySelector('#df-dcaca3bf-2b03-42c3-9d9a-d49c5c0b8e93 button');\n",
              "      quickchartButtonEl.style.display =\n",
              "        google.colab.kernel.accessAllowed ? 'block' : 'none';\n",
              "    })();\n",
              "  </script>\n",
              "</div>\n",
              "    </div>\n",
              "  </div>\n"
            ]
          },
          "metadata": {},
          "execution_count": 38
        }
      ],
      "source": [
        "import pandas as pd\n",
        "import re\n",
        "\n",
        "# nos quedamos con las corporaciones autonomas, secretaria de ambiente, parques nacionales, autoridad nacional\n",
        "regex_pattern = r'Corporación Autónoma|Secretaría|Parques Nacionales|Autoridad Nacional'\n",
        "filtered_df = df_resultados[df_resultados['ENTIDAD DE TRASLADO '].str.contains(regex_pattern, flags=re.IGNORECASE, regex=True,na=False)]\n",
        "#eliminamos duplicados\n",
        "filtered_df=filtered_df.drop_duplicates()\n",
        "filtered_df"
      ]
    },
    {
      "cell_type": "code",
      "execution_count": 39,
      "metadata": {
        "colab": {
          "base_uri": "https://localhost:8080/"
        },
        "id": "vXUgUWo5i_J8",
        "outputId": "bfbf1f0d-b125-45cf-9a4b-c0f432ec5a22"
      },
      "outputs": [
        {
          "data": {
            "text/plain": [
              "261"
            ]
          },
          "execution_count": 39,
          "metadata": {},
          "output_type": "execute_result"
        }
      ],
      "source": [
        "#Aqui podemos observar la cantidad de solicitudes con las que se hizo el analisis\n",
        "len(filtered_df['Nombre del Archivo'].unique())"
      ]
    },
    {
      "cell_type": "markdown",
      "metadata": {
        "id": "i05-7iN8V1TV"
      },
      "source": [
        "**Creamos las funciones para eliminar stop words y tokenizar**"
      ]
    },
    {
      "cell_type": "code",
      "execution_count": 40,
      "metadata": {
        "colab": {
          "base_uri": "https://localhost:8080/"
        },
        "id": "2L-x91vQ7w7K",
        "outputId": "8bc08840-acfc-47bf-e14f-a624b69b5636"
      },
      "outputs": [
        {
          "output_type": "stream",
          "name": "stderr",
          "text": [
            "[nltk_data] Downloading package stopwords to /root/nltk_data...\n",
            "[nltk_data]   Unzipping corpora/stopwords.zip.\n"
          ]
        }
      ],
      "source": [
        "#función remover stopwords\n",
        "import nltk\n",
        "from nltk.corpus import stopwords\n",
        "nltk.download('stopwords')  # Descargar las stopwords en español (si aún no lo has hecho)\n",
        "\n",
        "def remove_stopwords(text):\n",
        "    # Obtener el conjunto de stopwords en español\n",
        "    spanish_stopwords = set(stopwords.words('spanish'))\n",
        "\n",
        "    # Dividir el texto en palabras\n",
        "    words = text.split()\n",
        "\n",
        "    # Filtrar las palabras para quitar las stopwords\n",
        "    filtered_words = [word for word in words if word.lower() not in spanish_stopwords]\n",
        "\n",
        "    # Unir las palabras filtradas en un texto nuevamente\n",
        "    filtered_text = ' '.join(filtered_words)\n",
        "\n",
        "    return filtered_text\n",
        "\n",
        "\n",
        "\n",
        "#función limpiar y tokenizar\n",
        "def limpiar_tokenizar(texto):\n",
        "\n",
        "    # Se convierte todo el texto a minúsculas\n",
        "    nuevo_texto = texto.lower()\n",
        "    # Eliminación de palabras speaker\n",
        "    nuevo_texto = re.sub('speaker+', ' ', nuevo_texto)\n",
        "    # Eliminación de signos de puntuación\n",
        "    regex = '[\\\\!\\\\\"\\\\#\\\\$\\\\%\\\\&\\\\\\'\\\\(\\\\)\\\\*\\\\+\\\\,\\\\-\\\\.\\\\/\\\\:\\\\;\\\\<\\\\=\\\\>\\\\?\\\\@\\\\[\\\\\\\\\\\\]\\\\^_\\\\`\\\\{\\\\|\\\\}\\\\~\\\\\\\\?\\\\¿]'\n",
        "    nuevo_texto = re.sub(regex , ' ', nuevo_texto)\n",
        "    # Eliminación de números\n",
        "    nuevo_texto = re.sub(\"\\d+\", ' ', nuevo_texto)\n",
        "    # Eliminación de espacios en blanco múltiples\n",
        "    nuevo_texto = re.sub(\"\\\\s+\", ' ', nuevo_texto)\n",
        "    # Tokenización por palabras individuales\n",
        "\n",
        "    nuevo_texto = nuevo_texto.split(sep = ' ')\n",
        "    # Eliminación de tokens con una longitud < 2\n",
        "    nuevo_texto = [token for token in nuevo_texto if len(token) > 3]\n",
        "\n",
        "    return(nuevo_texto)\n",
        "\n"
      ]
    },
    {
      "cell_type": "markdown",
      "metadata": {
        "id": "yhGITgOSWAES"
      },
      "source": [
        "Limpieza adicional del texto de cada pdf"
      ]
    },
    {
      "cell_type": "code",
      "execution_count": null,
      "metadata": {
        "id": "7P0QAzDs8Nfh"
      },
      "outputs": [],
      "source": [
        "#eliominar numeros\n",
        "filtered_df['Texto'] = filtered_df['Texto'].str.replace(r'\\d+', '',regex=True)\n",
        "\n",
        "#remover stop words\n",
        "filtered_df[\"Texto\"]=filtered_df['Texto'].apply(lambda x:remove_stopwords(str(x)))\n",
        "####limpiar y tokenizar\n",
        "filtered_df[\"Texto\"]=filtered_df['Texto'].apply(lambda x:limpiar_tokenizar(str(x)))"
      ]
    },
    {
      "cell_type": "markdown",
      "metadata": {
        "id": "Ae3hFQw9WKmR"
      },
      "source": [
        "**Acontinuaciónn crearemos las categorias que utilizaremos como variable respuesta en el modelo** se seleccionaron 3 entindades, secretaria de ambiente, autoridad nacional de licencias y parques nacionales, así como se tomo como 1 misma categoria todas las corporaciones autonomas regionales"
      ]
    },
    {
      "cell_type": "code",
      "execution_count": 42,
      "metadata": {
        "id": "eG1yKQn3EPSb"
      },
      "outputs": [],
      "source": [
        "import pandas as pd\n",
        "import numpy as np\n",
        "\n",
        "# Suponiendo que df es tu DataFrame en Python y columna es la columna en la que quieres aplicar la condición\n",
        "\n",
        "condiciones = [\n",
        "    filtered_df['ENTIDAD DE TRASLADO '].str.contains(\"Corporación Autónoma\"),\n",
        "    filtered_df['ENTIDAD DE TRASLADO '].str.contains(\"Secretaría\"),\n",
        "    filtered_df['ENTIDAD DE TRASLADO '].str.contains(\"Parques Nacionales\"),\n",
        "    filtered_df['ENTIDAD DE TRASLADO '].str.contains(\"Autoridad Nacional\")\n",
        "]\n",
        "\n",
        "\n",
        "\n",
        "opciones = ['Ambiente', 'Ambiente','Parques', 'Autoridad']\n",
        "\n",
        "# Crea la nueva columna 'categoria' usando np.select()\n",
        "filtered_df['categoria'] = np.select(condiciones, opciones, default=None)\n",
        "\n",
        "#filtered_df\n"
      ]
    },
    {
      "cell_type": "code",
      "execution_count": 43,
      "metadata": {
        "colab": {
          "base_uri": "https://localhost:8080/",
          "height": 614
        },
        "id": "PCgbWlzNJ1cn",
        "outputId": "93da60f5-4a59-4e5a-aef2-abee2358d4e9"
      },
      "outputs": [
        {
          "output_type": "execute_result",
          "data": {
            "text/plain": [
              "    Nombre del Archivo  departamento  \\\n",
              "1         2023E1010149         cauca   \n",
              "2         2023E1010149         cauca   \n",
              "3         2022E1046913        boyaca   \n",
              "4         2022E1046913        boyaca   \n",
              "12        2023E1026491       cordoba   \n",
              "..                 ...           ...   \n",
              "876       2022E1050800        bogota   \n",
              "877       2022E1050659        bogota   \n",
              "882       2022E1050808         cesar   \n",
              "891       2022E1050540          meta   \n",
              "897       2022E1050501  cundinamarca   \n",
              "\n",
              "                                                 Texto  \\\n",
              "1    [contestar, cite, radicado, fecha, anexos, sop...   \n",
              "2    [contestar, cite, radicado, fecha, anexos, sop...   \n",
              "3    [bogota, noviembre, doctora, irene, velez, tor...   \n",
              "4    [bogota, noviembre, doctora, irene, velez, tor...   \n",
              "12   [solicitud, medida, suspension, provisional, a...   \n",
              "..                                                 ...   \n",
              "876  [radicado, ndeg, folios, anexos, destino, remd...   \n",
              "877  [gfpu, bogota, diciembre, gfpu, cite, numero, ...   \n",
              "882  [gfpu, bogota, diciembre, gfpu, cite, numero, ...   \n",
              "891  [calle, piso, bogota, colombia, wwwanteagroupc...   \n",
              "897  [casos, abuso, animal, william, cantor, willia...   \n",
              "\n",
              "    NUMERO DE RADICADO DE ENTRADA  \\\n",
              "1                    2023E1010149   \n",
              "2                    2023E1010149   \n",
              "3                    2022E1046913   \n",
              "4                    2022E1046913   \n",
              "12                   2023E1026491   \n",
              "..                            ...   \n",
              "876                  2022E1050800   \n",
              "877                  2022E1050659   \n",
              "882                  2022E1050808   \n",
              "891                  2022E1050540   \n",
              "897                  2022E1050501   \n",
              "\n",
              "                                  ENTIDAD DE TRASLADO   categoria  \n",
              "1        Corporación Autónoma Regional del Cauca - CRC   Ambiente  \n",
              "2      Parques Nacionales Naturales de Colombia - PNNC    Parques  \n",
              "3    Autoridad Nacional de Licencias Ambientales – ...  Autoridad  \n",
              "4    Corporación Autónoma Regional de Boyacá – CORP...   Ambiente  \n",
              "12    Autoridad Nacional de Licencias Ambientales ANLA  Autoridad  \n",
              "..                                                 ...        ...  \n",
              "876  Corporación Autónoma Regional de la Frontera N...   Ambiente  \n",
              "877   Autoridad Nacional de Licencias Ambientales ANLA  Autoridad  \n",
              "882  Corporación Autónoma Regional del Alto Magdale...   Ambiente  \n",
              "891   Autoridad Nacional de Licencias Ambientales ANLA  Autoridad  \n",
              "897  Corporación Autónoma Regional de Cundinamarca ...   Ambiente  \n",
              "\n",
              "[290 rows x 6 columns]"
            ],
            "text/html": [
              "\n",
              "  <div id=\"df-e085e73a-d2f8-4717-b5ac-25314cb6abe5\" class=\"colab-df-container\">\n",
              "    <div>\n",
              "<style scoped>\n",
              "    .dataframe tbody tr th:only-of-type {\n",
              "        vertical-align: middle;\n",
              "    }\n",
              "\n",
              "    .dataframe tbody tr th {\n",
              "        vertical-align: top;\n",
              "    }\n",
              "\n",
              "    .dataframe thead th {\n",
              "        text-align: right;\n",
              "    }\n",
              "</style>\n",
              "<table border=\"1\" class=\"dataframe\">\n",
              "  <thead>\n",
              "    <tr style=\"text-align: right;\">\n",
              "      <th></th>\n",
              "      <th>Nombre del Archivo</th>\n",
              "      <th>departamento</th>\n",
              "      <th>Texto</th>\n",
              "      <th>NUMERO DE RADICADO DE ENTRADA</th>\n",
              "      <th>ENTIDAD DE TRASLADO</th>\n",
              "      <th>categoria</th>\n",
              "    </tr>\n",
              "  </thead>\n",
              "  <tbody>\n",
              "    <tr>\n",
              "      <th>1</th>\n",
              "      <td>2023E1010149</td>\n",
              "      <td>cauca</td>\n",
              "      <td>[contestar, cite, radicado, fecha, anexos, sop...</td>\n",
              "      <td>2023E1010149</td>\n",
              "      <td>Corporación Autónoma Regional del Cauca - CRC</td>\n",
              "      <td>Ambiente</td>\n",
              "    </tr>\n",
              "    <tr>\n",
              "      <th>2</th>\n",
              "      <td>2023E1010149</td>\n",
              "      <td>cauca</td>\n",
              "      <td>[contestar, cite, radicado, fecha, anexos, sop...</td>\n",
              "      <td>2023E1010149</td>\n",
              "      <td>Parques Nacionales Naturales de Colombia - PNNC</td>\n",
              "      <td>Parques</td>\n",
              "    </tr>\n",
              "    <tr>\n",
              "      <th>3</th>\n",
              "      <td>2022E1046913</td>\n",
              "      <td>boyaca</td>\n",
              "      <td>[bogota, noviembre, doctora, irene, velez, tor...</td>\n",
              "      <td>2022E1046913</td>\n",
              "      <td>Autoridad Nacional de Licencias Ambientales – ...</td>\n",
              "      <td>Autoridad</td>\n",
              "    </tr>\n",
              "    <tr>\n",
              "      <th>4</th>\n",
              "      <td>2022E1046913</td>\n",
              "      <td>boyaca</td>\n",
              "      <td>[bogota, noviembre, doctora, irene, velez, tor...</td>\n",
              "      <td>2022E1046913</td>\n",
              "      <td>Corporación Autónoma Regional de Boyacá – CORP...</td>\n",
              "      <td>Ambiente</td>\n",
              "    </tr>\n",
              "    <tr>\n",
              "      <th>12</th>\n",
              "      <td>2023E1026491</td>\n",
              "      <td>cordoba</td>\n",
              "      <td>[solicitud, medida, suspension, provisional, a...</td>\n",
              "      <td>2023E1026491</td>\n",
              "      <td>Autoridad Nacional de Licencias Ambientales ANLA</td>\n",
              "      <td>Autoridad</td>\n",
              "    </tr>\n",
              "    <tr>\n",
              "      <th>...</th>\n",
              "      <td>...</td>\n",
              "      <td>...</td>\n",
              "      <td>...</td>\n",
              "      <td>...</td>\n",
              "      <td>...</td>\n",
              "      <td>...</td>\n",
              "    </tr>\n",
              "    <tr>\n",
              "      <th>876</th>\n",
              "      <td>2022E1050800</td>\n",
              "      <td>bogota</td>\n",
              "      <td>[radicado, ndeg, folios, anexos, destino, remd...</td>\n",
              "      <td>2022E1050800</td>\n",
              "      <td>Corporación Autónoma Regional de la Frontera N...</td>\n",
              "      <td>Ambiente</td>\n",
              "    </tr>\n",
              "    <tr>\n",
              "      <th>877</th>\n",
              "      <td>2022E1050659</td>\n",
              "      <td>bogota</td>\n",
              "      <td>[gfpu, bogota, diciembre, gfpu, cite, numero, ...</td>\n",
              "      <td>2022E1050659</td>\n",
              "      <td>Autoridad Nacional de Licencias Ambientales ANLA</td>\n",
              "      <td>Autoridad</td>\n",
              "    </tr>\n",
              "    <tr>\n",
              "      <th>882</th>\n",
              "      <td>2022E1050808</td>\n",
              "      <td>cesar</td>\n",
              "      <td>[gfpu, bogota, diciembre, gfpu, cite, numero, ...</td>\n",
              "      <td>2022E1050808</td>\n",
              "      <td>Corporación Autónoma Regional del Alto Magdale...</td>\n",
              "      <td>Ambiente</td>\n",
              "    </tr>\n",
              "    <tr>\n",
              "      <th>891</th>\n",
              "      <td>2022E1050540</td>\n",
              "      <td>meta</td>\n",
              "      <td>[calle, piso, bogota, colombia, wwwanteagroupc...</td>\n",
              "      <td>2022E1050540</td>\n",
              "      <td>Autoridad Nacional de Licencias Ambientales ANLA</td>\n",
              "      <td>Autoridad</td>\n",
              "    </tr>\n",
              "    <tr>\n",
              "      <th>897</th>\n",
              "      <td>2022E1050501</td>\n",
              "      <td>cundinamarca</td>\n",
              "      <td>[casos, abuso, animal, william, cantor, willia...</td>\n",
              "      <td>2022E1050501</td>\n",
              "      <td>Corporación Autónoma Regional de Cundinamarca ...</td>\n",
              "      <td>Ambiente</td>\n",
              "    </tr>\n",
              "  </tbody>\n",
              "</table>\n",
              "<p>290 rows × 6 columns</p>\n",
              "</div>\n",
              "    <div class=\"colab-df-buttons\">\n",
              "\n",
              "  <div class=\"colab-df-container\">\n",
              "    <button class=\"colab-df-convert\" onclick=\"convertToInteractive('df-e085e73a-d2f8-4717-b5ac-25314cb6abe5')\"\n",
              "            title=\"Convert this dataframe to an interactive table.\"\n",
              "            style=\"display:none;\">\n",
              "\n",
              "  <svg xmlns=\"http://www.w3.org/2000/svg\" height=\"24px\" viewBox=\"0 -960 960 960\">\n",
              "    <path d=\"M120-120v-720h720v720H120Zm60-500h600v-160H180v160Zm220 220h160v-160H400v160Zm0 220h160v-160H400v160ZM180-400h160v-160H180v160Zm440 0h160v-160H620v160ZM180-180h160v-160H180v160Zm440 0h160v-160H620v160Z\"/>\n",
              "  </svg>\n",
              "    </button>\n",
              "\n",
              "  <style>\n",
              "    .colab-df-container {\n",
              "      display:flex;\n",
              "      gap: 12px;\n",
              "    }\n",
              "\n",
              "    .colab-df-convert {\n",
              "      background-color: #E8F0FE;\n",
              "      border: none;\n",
              "      border-radius: 50%;\n",
              "      cursor: pointer;\n",
              "      display: none;\n",
              "      fill: #1967D2;\n",
              "      height: 32px;\n",
              "      padding: 0 0 0 0;\n",
              "      width: 32px;\n",
              "    }\n",
              "\n",
              "    .colab-df-convert:hover {\n",
              "      background-color: #E2EBFA;\n",
              "      box-shadow: 0px 1px 2px rgba(60, 64, 67, 0.3), 0px 1px 3px 1px rgba(60, 64, 67, 0.15);\n",
              "      fill: #174EA6;\n",
              "    }\n",
              "\n",
              "    .colab-df-buttons div {\n",
              "      margin-bottom: 4px;\n",
              "    }\n",
              "\n",
              "    [theme=dark] .colab-df-convert {\n",
              "      background-color: #3B4455;\n",
              "      fill: #D2E3FC;\n",
              "    }\n",
              "\n",
              "    [theme=dark] .colab-df-convert:hover {\n",
              "      background-color: #434B5C;\n",
              "      box-shadow: 0px 1px 3px 1px rgba(0, 0, 0, 0.15);\n",
              "      filter: drop-shadow(0px 1px 2px rgba(0, 0, 0, 0.3));\n",
              "      fill: #FFFFFF;\n",
              "    }\n",
              "  </style>\n",
              "\n",
              "    <script>\n",
              "      const buttonEl =\n",
              "        document.querySelector('#df-e085e73a-d2f8-4717-b5ac-25314cb6abe5 button.colab-df-convert');\n",
              "      buttonEl.style.display =\n",
              "        google.colab.kernel.accessAllowed ? 'block' : 'none';\n",
              "\n",
              "      async function convertToInteractive(key) {\n",
              "        const element = document.querySelector('#df-e085e73a-d2f8-4717-b5ac-25314cb6abe5');\n",
              "        const dataTable =\n",
              "          await google.colab.kernel.invokeFunction('convertToInteractive',\n",
              "                                                    [key], {});\n",
              "        if (!dataTable) return;\n",
              "\n",
              "        const docLinkHtml = 'Like what you see? Visit the ' +\n",
              "          '<a target=\"_blank\" href=https://colab.research.google.com/notebooks/data_table.ipynb>data table notebook</a>'\n",
              "          + ' to learn more about interactive tables.';\n",
              "        element.innerHTML = '';\n",
              "        dataTable['output_type'] = 'display_data';\n",
              "        await google.colab.output.renderOutput(dataTable, element);\n",
              "        const docLink = document.createElement('div');\n",
              "        docLink.innerHTML = docLinkHtml;\n",
              "        element.appendChild(docLink);\n",
              "      }\n",
              "    </script>\n",
              "  </div>\n",
              "\n",
              "\n",
              "<div id=\"df-20744490-79b2-433d-b27e-9daa8b86f2b5\">\n",
              "  <button class=\"colab-df-quickchart\" onclick=\"quickchart('df-20744490-79b2-433d-b27e-9daa8b86f2b5')\"\n",
              "            title=\"Suggest charts\"\n",
              "            style=\"display:none;\">\n",
              "\n",
              "<svg xmlns=\"http://www.w3.org/2000/svg\" height=\"24px\"viewBox=\"0 0 24 24\"\n",
              "     width=\"24px\">\n",
              "    <g>\n",
              "        <path d=\"M19 3H5c-1.1 0-2 .9-2 2v14c0 1.1.9 2 2 2h14c1.1 0 2-.9 2-2V5c0-1.1-.9-2-2-2zM9 17H7v-7h2v7zm4 0h-2V7h2v10zm4 0h-2v-4h2v4z\"/>\n",
              "    </g>\n",
              "</svg>\n",
              "  </button>\n",
              "\n",
              "<style>\n",
              "  .colab-df-quickchart {\n",
              "      --bg-color: #E8F0FE;\n",
              "      --fill-color: #1967D2;\n",
              "      --hover-bg-color: #E2EBFA;\n",
              "      --hover-fill-color: #174EA6;\n",
              "      --disabled-fill-color: #AAA;\n",
              "      --disabled-bg-color: #DDD;\n",
              "  }\n",
              "\n",
              "  [theme=dark] .colab-df-quickchart {\n",
              "      --bg-color: #3B4455;\n",
              "      --fill-color: #D2E3FC;\n",
              "      --hover-bg-color: #434B5C;\n",
              "      --hover-fill-color: #FFFFFF;\n",
              "      --disabled-bg-color: #3B4455;\n",
              "      --disabled-fill-color: #666;\n",
              "  }\n",
              "\n",
              "  .colab-df-quickchart {\n",
              "    background-color: var(--bg-color);\n",
              "    border: none;\n",
              "    border-radius: 50%;\n",
              "    cursor: pointer;\n",
              "    display: none;\n",
              "    fill: var(--fill-color);\n",
              "    height: 32px;\n",
              "    padding: 0;\n",
              "    width: 32px;\n",
              "  }\n",
              "\n",
              "  .colab-df-quickchart:hover {\n",
              "    background-color: var(--hover-bg-color);\n",
              "    box-shadow: 0 1px 2px rgba(60, 64, 67, 0.3), 0 1px 3px 1px rgba(60, 64, 67, 0.15);\n",
              "    fill: var(--button-hover-fill-color);\n",
              "  }\n",
              "\n",
              "  .colab-df-quickchart-complete:disabled,\n",
              "  .colab-df-quickchart-complete:disabled:hover {\n",
              "    background-color: var(--disabled-bg-color);\n",
              "    fill: var(--disabled-fill-color);\n",
              "    box-shadow: none;\n",
              "  }\n",
              "\n",
              "  .colab-df-spinner {\n",
              "    border: 2px solid var(--fill-color);\n",
              "    border-color: transparent;\n",
              "    border-bottom-color: var(--fill-color);\n",
              "    animation:\n",
              "      spin 1s steps(1) infinite;\n",
              "  }\n",
              "\n",
              "  @keyframes spin {\n",
              "    0% {\n",
              "      border-color: transparent;\n",
              "      border-bottom-color: var(--fill-color);\n",
              "      border-left-color: var(--fill-color);\n",
              "    }\n",
              "    20% {\n",
              "      border-color: transparent;\n",
              "      border-left-color: var(--fill-color);\n",
              "      border-top-color: var(--fill-color);\n",
              "    }\n",
              "    30% {\n",
              "      border-color: transparent;\n",
              "      border-left-color: var(--fill-color);\n",
              "      border-top-color: var(--fill-color);\n",
              "      border-right-color: var(--fill-color);\n",
              "    }\n",
              "    40% {\n",
              "      border-color: transparent;\n",
              "      border-right-color: var(--fill-color);\n",
              "      border-top-color: var(--fill-color);\n",
              "    }\n",
              "    60% {\n",
              "      border-color: transparent;\n",
              "      border-right-color: var(--fill-color);\n",
              "    }\n",
              "    80% {\n",
              "      border-color: transparent;\n",
              "      border-right-color: var(--fill-color);\n",
              "      border-bottom-color: var(--fill-color);\n",
              "    }\n",
              "    90% {\n",
              "      border-color: transparent;\n",
              "      border-bottom-color: var(--fill-color);\n",
              "    }\n",
              "  }\n",
              "</style>\n",
              "\n",
              "  <script>\n",
              "    async function quickchart(key) {\n",
              "      const quickchartButtonEl =\n",
              "        document.querySelector('#' + key + ' button');\n",
              "      quickchartButtonEl.disabled = true;  // To prevent multiple clicks.\n",
              "      quickchartButtonEl.classList.add('colab-df-spinner');\n",
              "      try {\n",
              "        const charts = await google.colab.kernel.invokeFunction(\n",
              "            'suggestCharts', [key], {});\n",
              "      } catch (error) {\n",
              "        console.error('Error during call to suggestCharts:', error);\n",
              "      }\n",
              "      quickchartButtonEl.classList.remove('colab-df-spinner');\n",
              "      quickchartButtonEl.classList.add('colab-df-quickchart-complete');\n",
              "    }\n",
              "    (() => {\n",
              "      let quickchartButtonEl =\n",
              "        document.querySelector('#df-20744490-79b2-433d-b27e-9daa8b86f2b5 button');\n",
              "      quickchartButtonEl.style.display =\n",
              "        google.colab.kernel.accessAllowed ? 'block' : 'none';\n",
              "    })();\n",
              "  </script>\n",
              "</div>\n",
              "    </div>\n",
              "  </div>\n"
            ]
          },
          "metadata": {},
          "execution_count": 43
        }
      ],
      "source": [
        "#Volvemos a eliminar duplicados\n",
        "filtered_df=filtered_df.drop_duplicates(subset=['Nombre del Archivo', 'categoria'])#.isna().sum()\n",
        "filtered_df"
      ]
    },
    {
      "cell_type": "code",
      "execution_count": 44,
      "metadata": {
        "id": "EBQoxKxQP0oM"
      },
      "outputs": [],
      "source": [
        "#eliminamos los na de la categorización realizada\n",
        "filtered_df=filtered_df[filtered_df['categoria'].notna()]\n",
        "filtered_df= filtered_df.reset_index(drop=True)"
      ]
    },
    {
      "cell_type": "code",
      "execution_count": 45,
      "metadata": {
        "id": "vLnmF72nOTxK"
      },
      "outputs": [],
      "source": [
        "#separamos nuestra muestra de prueba y entrenamiento\n",
        "X_train, X_test, y_train, y_test = train_test_split(filtered_df['Texto'], filtered_df['categoria'], test_size=0.2, random_state=42)\n",
        "X_test_P=X_test"
      ]
    },
    {
      "cell_type": "code",
      "source": [
        "# Acceder a los índices originales de los conjuntos de entrenamiento y prueba\n",
        "indices_train = X_train.index\n",
        "indices_test = X_test.index\n"
      ],
      "metadata": {
        "id": "t93OXVGROU7X"
      },
      "execution_count": 46,
      "outputs": []
    },
    {
      "cell_type": "code",
      "execution_count": 47,
      "metadata": {
        "id": "HPmcR-SFOoL6"
      },
      "outputs": [],
      "source": [
        "# Supongamos que cada elemento de X_train y X_test es una lista de texto\n",
        "X_train = [' '.join(text_list) for text_list in X_train]\n",
        "X_test = [' '.join(text_list) for text_list in X_test]\n",
        "#vectorizamos nuestra muestra\n",
        "vectorizer = TfidfVectorizer(max_features=1000)\n",
        "X_train_vec = vectorizer.fit_transform(X_train)\n",
        "X_test_vec = vectorizer.transform(X_test)\n",
        "\n"
      ]
    },
    {
      "cell_type": "markdown",
      "source": [
        "**Modelos maquinas de soporte vectorial**"
      ],
      "metadata": {
        "id": "-OJeQp1SUWk7"
      }
    },
    {
      "cell_type": "code",
      "execution_count": 48,
      "metadata": {
        "colab": {
          "base_uri": "https://localhost:8080/",
          "height": 74
        },
        "id": "rqZ4tbjXPB6d",
        "outputId": "6f6bc3f4-2bca-4b35-efc7-68e3109ba6fe"
      },
      "outputs": [
        {
          "output_type": "execute_result",
          "data": {
            "text/plain": [
              "SVC(C=1, kernel='linear')"
            ],
            "text/html": [
              "<style>#sk-container-id-1 {color: black;background-color: white;}#sk-container-id-1 pre{padding: 0;}#sk-container-id-1 div.sk-toggleable {background-color: white;}#sk-container-id-1 label.sk-toggleable__label {cursor: pointer;display: block;width: 100%;margin-bottom: 0;padding: 0.3em;box-sizing: border-box;text-align: center;}#sk-container-id-1 label.sk-toggleable__label-arrow:before {content: \"▸\";float: left;margin-right: 0.25em;color: #696969;}#sk-container-id-1 label.sk-toggleable__label-arrow:hover:before {color: black;}#sk-container-id-1 div.sk-estimator:hover label.sk-toggleable__label-arrow:before {color: black;}#sk-container-id-1 div.sk-toggleable__content {max-height: 0;max-width: 0;overflow: hidden;text-align: left;background-color: #f0f8ff;}#sk-container-id-1 div.sk-toggleable__content pre {margin: 0.2em;color: black;border-radius: 0.25em;background-color: #f0f8ff;}#sk-container-id-1 input.sk-toggleable__control:checked~div.sk-toggleable__content {max-height: 200px;max-width: 100%;overflow: auto;}#sk-container-id-1 input.sk-toggleable__control:checked~label.sk-toggleable__label-arrow:before {content: \"▾\";}#sk-container-id-1 div.sk-estimator input.sk-toggleable__control:checked~label.sk-toggleable__label {background-color: #d4ebff;}#sk-container-id-1 div.sk-label input.sk-toggleable__control:checked~label.sk-toggleable__label {background-color: #d4ebff;}#sk-container-id-1 input.sk-hidden--visually {border: 0;clip: rect(1px 1px 1px 1px);clip: rect(1px, 1px, 1px, 1px);height: 1px;margin: -1px;overflow: hidden;padding: 0;position: absolute;width: 1px;}#sk-container-id-1 div.sk-estimator {font-family: monospace;background-color: #f0f8ff;border: 1px dotted black;border-radius: 0.25em;box-sizing: border-box;margin-bottom: 0.5em;}#sk-container-id-1 div.sk-estimator:hover {background-color: #d4ebff;}#sk-container-id-1 div.sk-parallel-item::after {content: \"\";width: 100%;border-bottom: 1px solid gray;flex-grow: 1;}#sk-container-id-1 div.sk-label:hover label.sk-toggleable__label {background-color: #d4ebff;}#sk-container-id-1 div.sk-serial::before {content: \"\";position: absolute;border-left: 1px solid gray;box-sizing: border-box;top: 0;bottom: 0;left: 50%;z-index: 0;}#sk-container-id-1 div.sk-serial {display: flex;flex-direction: column;align-items: center;background-color: white;padding-right: 0.2em;padding-left: 0.2em;position: relative;}#sk-container-id-1 div.sk-item {position: relative;z-index: 1;}#sk-container-id-1 div.sk-parallel {display: flex;align-items: stretch;justify-content: center;background-color: white;position: relative;}#sk-container-id-1 div.sk-item::before, #sk-container-id-1 div.sk-parallel-item::before {content: \"\";position: absolute;border-left: 1px solid gray;box-sizing: border-box;top: 0;bottom: 0;left: 50%;z-index: -1;}#sk-container-id-1 div.sk-parallel-item {display: flex;flex-direction: column;z-index: 1;position: relative;background-color: white;}#sk-container-id-1 div.sk-parallel-item:first-child::after {align-self: flex-end;width: 50%;}#sk-container-id-1 div.sk-parallel-item:last-child::after {align-self: flex-start;width: 50%;}#sk-container-id-1 div.sk-parallel-item:only-child::after {width: 0;}#sk-container-id-1 div.sk-dashed-wrapped {border: 1px dashed gray;margin: 0 0.4em 0.5em 0.4em;box-sizing: border-box;padding-bottom: 0.4em;background-color: white;}#sk-container-id-1 div.sk-label label {font-family: monospace;font-weight: bold;display: inline-block;line-height: 1.2em;}#sk-container-id-1 div.sk-label-container {text-align: center;}#sk-container-id-1 div.sk-container {/* jupyter's `normalize.less` sets `[hidden] { display: none; }` but bootstrap.min.css set `[hidden] { display: none !important; }` so we also need the `!important` here to be able to override the default hidden behavior on the sphinx rendered scikit-learn.org. See: https://github.com/scikit-learn/scikit-learn/issues/21755 */display: inline-block !important;position: relative;}#sk-container-id-1 div.sk-text-repr-fallback {display: none;}</style><div id=\"sk-container-id-1\" class=\"sk-top-container\"><div class=\"sk-text-repr-fallback\"><pre>SVC(C=1, kernel=&#x27;linear&#x27;)</pre><b>In a Jupyter environment, please rerun this cell to show the HTML representation or trust the notebook. <br />On GitHub, the HTML representation is unable to render, please try loading this page with nbviewer.org.</b></div><div class=\"sk-container\" hidden><div class=\"sk-item\"><div class=\"sk-estimator sk-toggleable\"><input class=\"sk-toggleable__control sk-hidden--visually\" id=\"sk-estimator-id-1\" type=\"checkbox\" checked><label for=\"sk-estimator-id-1\" class=\"sk-toggleable__label sk-toggleable__label-arrow\">SVC</label><div class=\"sk-toggleable__content\"><pre>SVC(C=1, kernel=&#x27;linear&#x27;)</pre></div></div></div></div></div>"
            ]
          },
          "metadata": {},
          "execution_count": 48
        }
      ],
      "source": [
        "#calculamos modelo\n",
        "import random\n",
        "random.seed(24) #semilla aleatoria para resultados replicables\n",
        "clf = SVC(kernel='linear', C=1)\n",
        "clf.fit(X_train_vec, y_train)\n"
      ]
    },
    {
      "cell_type": "markdown",
      "source": [
        "**Predicciones del modelo**"
      ],
      "metadata": {
        "id": "FJQgskrGUicI"
      }
    },
    {
      "cell_type": "code",
      "execution_count": 49,
      "metadata": {
        "colab": {
          "base_uri": "https://localhost:8080/"
        },
        "id": "Rk2NVh3aPJSs",
        "outputId": "38c78c27-44dc-4a0f-cbe2-9bbc56634c95"
      },
      "outputs": [
        {
          "output_type": "stream",
          "name": "stdout",
          "text": [
            "              precision    recall  f1-score   support\n",
            "\n",
            "    Ambiente       0.64      0.81      0.71        31\n",
            "   Autoridad       0.75      0.60      0.67        15\n",
            "     Parques       0.43      0.25      0.32        12\n",
            "\n",
            "    accuracy                           0.64        58\n",
            "   macro avg       0.61      0.55      0.57        58\n",
            "weighted avg       0.63      0.64      0.62        58\n",
            "\n"
          ]
        }
      ],
      "source": [
        "y_pred = clf.predict(X_test_vec)\n",
        "print(classification_report(y_test, y_pred))\n"
      ]
    },
    {
      "cell_type": "markdown",
      "source": [
        "tomaremos todas las predicciones para generar los pdfs"
      ],
      "metadata": {
        "id": "Ue6-ycsmM-BT"
      }
    },
    {
      "cell_type": "code",
      "execution_count": 50,
      "metadata": {
        "colab": {
          "base_uri": "https://localhost:8080/"
        },
        "id": "ruhs3OJ9ROgq",
        "outputId": "864799f5-c633-4bca-d1f6-03455ecae346"
      },
      "outputs": [
        {
          "output_type": "execute_result",
          "data": {
            "text/plain": [
              "0.5739130434782609"
            ]
          },
          "metadata": {},
          "execution_count": 50
        }
      ],
      "source": [
        "from sklearn.model_selection import cross_val_score\n",
        "scores = cross_val_score(clf, X_train_vec, y_train, cv=5)\n",
        "average_accuracy = scores.mean()\n",
        "average_accuracy"
      ]
    },
    {
      "cell_type": "markdown",
      "source": [
        "**Matriz de confusión**"
      ],
      "metadata": {
        "id": "5dyH1faqUq6O"
      }
    },
    {
      "cell_type": "code",
      "execution_count": 51,
      "metadata": {
        "colab": {
          "base_uri": "https://localhost:8080/",
          "height": 565
        },
        "id": "xSLOp06RST8t",
        "outputId": "0d6e1bde-da3d-480c-9467-d7a57808a6c2"
      },
      "outputs": [
        {
          "output_type": "display_data",
          "data": {
            "text/plain": [
              "<Figure size 800x600 with 2 Axes>"
            ],
            "image/png": "[encoded data removed]"
          },
          "metadata": {}
        }
      ],
      "source": [
        "from sklearn.metrics import confusion_matrix\n",
        "import matplotlib.pyplot as plt\n",
        "import seaborn as sns\n",
        "confusion = confusion_matrix(y_test, y_pred)\n",
        "labels = ['Ambiente', 'Parques',\"Autoridad\"]\n",
        "\n",
        "# Paso 7: Visualizar la matriz de confusión\n",
        "plt.figure(figsize=(8, 6))\n",
        "sns.heatmap(confusion, annot=True, fmt='d', cmap='Blues', xticklabels=labels, yticklabels=labels)\n",
        "plt.xlabel('Predicción')\n",
        "plt.ylabel('Valor Real')\n",
        "plt.title('Matriz de Confusión rsoporte vectorial finito')\n",
        "plt.show()"
      ]
    },
    {
      "cell_type": "markdown",
      "metadata": {
        "id": "b94o05cCX3Qr"
      },
      "source": [
        "**modelo random forest**"
      ]
    },
    {
      "cell_type": "code",
      "execution_count": 52,
      "metadata": {
        "colab": {
          "base_uri": "https://localhost:8080/",
          "height": 74
        },
        "id": "3C0NwCEEXe0m",
        "outputId": "0a4b2ac6-8feb-4f50-ba4a-724d6754f498"
      },
      "outputs": [
        {
          "output_type": "execute_result",
          "data": {
            "text/plain": [
              "RandomForestClassifier()"
            ],
            "text/html": [
              "<style>#sk-container-id-2 {color: black;background-color: white;}#sk-container-id-2 pre{padding: 0;}#sk-container-id-2 div.sk-toggleable {background-color: white;}#sk-container-id-2 label.sk-toggleable__label {cursor: pointer;display: block;width: 100%;margin-bottom: 0;padding: 0.3em;box-sizing: border-box;text-align: center;}#sk-container-id-2 label.sk-toggleable__label-arrow:before {content: \"▸\";float: left;margin-right: 0.25em;color: #696969;}#sk-container-id-2 label.sk-toggleable__label-arrow:hover:before {color: black;}#sk-container-id-2 div.sk-estimator:hover label.sk-toggleable__label-arrow:before {color: black;}#sk-container-id-2 div.sk-toggleable__content {max-height: 0;max-width: 0;overflow: hidden;text-align: left;background-color: #f0f8ff;}#sk-container-id-2 div.sk-toggleable__content pre {margin: 0.2em;color: black;border-radius: 0.25em;background-color: #f0f8ff;}#sk-container-id-2 input.sk-toggleable__control:checked~div.sk-toggleable__content {max-height: 200px;max-width: 100%;overflow: auto;}#sk-container-id-2 input.sk-toggleable__control:checked~label.sk-toggleable__label-arrow:before {content: \"▾\";}#sk-container-id-2 div.sk-estimator input.sk-toggleable__control:checked~label.sk-toggleable__label {background-color: #d4ebff;}#sk-container-id-2 div.sk-label input.sk-toggleable__control:checked~label.sk-toggleable__label {background-color: #d4ebff;}#sk-container-id-2 input.sk-hidden--visually {border: 0;clip: rect(1px 1px 1px 1px);clip: rect(1px, 1px, 1px, 1px);height: 1px;margin: -1px;overflow: hidden;padding: 0;position: absolute;width: 1px;}#sk-container-id-2 div.sk-estimator {font-family: monospace;background-color: #f0f8ff;border: 1px dotted black;border-radius: 0.25em;box-sizing: border-box;margin-bottom: 0.5em;}#sk-container-id-2 div.sk-estimator:hover {background-color: #d4ebff;}#sk-container-id-2 div.sk-parallel-item::after {content: \"\";width: 100%;border-bottom: 1px solid gray;flex-grow: 1;}#sk-container-id-2 div.sk-label:hover label.sk-toggleable__label {background-color: #d4ebff;}#sk-container-id-2 div.sk-serial::before {content: \"\";position: absolute;border-left: 1px solid gray;box-sizing: border-box;top: 0;bottom: 0;left: 50%;z-index: 0;}#sk-container-id-2 div.sk-serial {display: flex;flex-direction: column;align-items: center;background-color: white;padding-right: 0.2em;padding-left: 0.2em;position: relative;}#sk-container-id-2 div.sk-item {position: relative;z-index: 1;}#sk-container-id-2 div.sk-parallel {display: flex;align-items: stretch;justify-content: center;background-color: white;position: relative;}#sk-container-id-2 div.sk-item::before, #sk-container-id-2 div.sk-parallel-item::before {content: \"\";position: absolute;border-left: 1px solid gray;box-sizing: border-box;top: 0;bottom: 0;left: 50%;z-index: -1;}#sk-container-id-2 div.sk-parallel-item {display: flex;flex-direction: column;z-index: 1;position: relative;background-color: white;}#sk-container-id-2 div.sk-parallel-item:first-child::after {align-self: flex-end;width: 50%;}#sk-container-id-2 div.sk-parallel-item:last-child::after {align-self: flex-start;width: 50%;}#sk-container-id-2 div.sk-parallel-item:only-child::after {width: 0;}#sk-container-id-2 div.sk-dashed-wrapped {border: 1px dashed gray;margin: 0 0.4em 0.5em 0.4em;box-sizing: border-box;padding-bottom: 0.4em;background-color: white;}#sk-container-id-2 div.sk-label label {font-family: monospace;font-weight: bold;display: inline-block;line-height: 1.2em;}#sk-container-id-2 div.sk-label-container {text-align: center;}#sk-container-id-2 div.sk-container {/* jupyter's `normalize.less` sets `[hidden] { display: none; }` but bootstrap.min.css set `[hidden] { display: none !important; }` so we also need the `!important` here to be able to override the default hidden behavior on the sphinx rendered scikit-learn.org. See: https://github.com/scikit-learn/scikit-learn/issues/21755 */display: inline-block !important;position: relative;}#sk-container-id-2 div.sk-text-repr-fallback {display: none;}</style><div id=\"sk-container-id-2\" class=\"sk-top-container\"><div class=\"sk-text-repr-fallback\"><pre>RandomForestClassifier()</pre><b>In a Jupyter environment, please rerun this cell to show the HTML representation or trust the notebook. <br />On GitHub, the HTML representation is unable to render, please try loading this page with nbviewer.org.</b></div><div class=\"sk-container\" hidden><div class=\"sk-item\"><div class=\"sk-estimator sk-toggleable\"><input class=\"sk-toggleable__control sk-hidden--visually\" id=\"sk-estimator-id-2\" type=\"checkbox\" checked><label for=\"sk-estimator-id-2\" class=\"sk-toggleable__label sk-toggleable__label-arrow\">RandomForestClassifier</label><div class=\"sk-toggleable__content\"><pre>RandomForestClassifier()</pre></div></div></div></div></div>"
            ]
          },
          "metadata": {},
          "execution_count": 52
        }
      ],
      "source": [
        "from sklearn.ensemble import RandomForestClassifier\n",
        "random.seed(24)\n",
        "rf = RandomForestClassifier()\n",
        "rf.fit(X_train_vec, y_train)"
      ]
    },
    {
      "cell_type": "code",
      "execution_count": null,
      "metadata": {
        "id": "PsP24dWpYFzr"
      },
      "outputs": [],
      "source": [
        "y_pred = rf.predict(X_test_vec)"
      ]
    },
    {
      "cell_type": "code",
      "execution_count": 54,
      "metadata": {
        "colab": {
          "base_uri": "https://localhost:8080/"
        },
        "id": "UF_wf5IiYKz3",
        "outputId": "7903ad3c-7201-4e5c-9981-a706b97b34a7"
      },
      "outputs": [
        {
          "output_type": "stream",
          "name": "stdout",
          "text": [
            "              precision    recall  f1-score   support\n",
            "\n",
            "    Ambiente       0.63      0.77      0.70        31\n",
            "   Autoridad       0.69      0.60      0.64        15\n",
            "     Parques       0.43      0.25      0.32        12\n",
            "\n",
            "    accuracy                           0.62        58\n",
            "   macro avg       0.58      0.54      0.55        58\n",
            "weighted avg       0.61      0.62      0.60        58\n",
            "\n"
          ]
        }
      ],
      "source": [
        "print(classification_report(y_test, y_pred))"
      ]
    },
    {
      "cell_type": "code",
      "execution_count": 55,
      "metadata": {
        "colab": {
          "base_uri": "https://localhost:8080/",
          "height": 565
        },
        "id": "yGBEzMq_YXEf",
        "outputId": "a60e8ec5-cc50-4a0d-a267-39b05f1ea643"
      },
      "outputs": [
        {
          "output_type": "display_data",
          "data": {
            "text/plain": [
              "<Figure size 800x600 with 2 Axes>"
            ],
            "image/png": "[encoded data removed]"
          },
          "metadata": {}
        }
      ],
      "source": [
        "from sklearn.metrics import confusion_matrix\n",
        "import matplotlib.pyplot as plt\n",
        "import seaborn as sns\n",
        "confusion = confusion_matrix(y_test, y_pred)\n",
        "labels = ['Ambiente', 'Parques',\"Autoridad\"]\n",
        "\n",
        "# Paso 7: Visualizar la matriz de confusión\n",
        "plt.figure(figsize=(8, 6))\n",
        "sns.heatmap(confusion, annot=True, fmt='d', cmap='Blues', xticklabels=labels, yticklabels=labels)\n",
        "plt.xlabel('Predicción')\n",
        "plt.ylabel('Valor Real')\n",
        "plt.title('Matriz de Confusión rsoporte vectorial finito')\n",
        "plt.show()"
      ]
    },
    {
      "cell_type": "markdown",
      "metadata": {
        "id": "hV7kjJ-aZTho"
      },
      "source": [
        "**Modelos redes neuronales lstm**"
      ]
    },
    {
      "cell_type": "code",
      "execution_count": 56,
      "metadata": {
        "id": "dOvB1XMfY97g"
      },
      "outputs": [],
      "source": [
        "from sklearn.preprocessing import LabelEncoder\n",
        "from keras.preprocessing.text import Tokenizer\n",
        "from keras.utils import pad_sequences\n",
        "from keras.models import Sequential\n",
        "from keras.layers import Embedding, LSTM, Dense"
      ]
    },
    {
      "cell_type": "code",
      "execution_count": null,
      "metadata": {
        "id": "IG7kL13aZFUk"
      },
      "outputs": [],
      "source": [
        "# Paso 4: Preprocesar los datos de texto\n",
        "tokenizer = Tokenizer()\n",
        "tokenizer.fit_on_texts(X_train)\n",
        "X_train_sequences = tokenizer.texts_to_sequences(X_train)\n",
        "X_test_sequences = tokenizer.texts_to_sequences(X_test)"
      ]
    },
    {
      "cell_type": "code",
      "execution_count": 58,
      "metadata": {
        "id": "xCjPba-aZX8d"
      },
      "outputs": [],
      "source": [
        "vocab_size = len(tokenizer.word_index) + 1\n",
        "max_sequence_length = max(len(seq) for seq in X_train_sequences)\n",
        "X_train_padded = pad_sequences(X_train_sequences, maxlen=max_sequence_length)\n",
        "X_test_padded = pad_sequences(X_test_sequences, maxlen=max_sequence_length)"
      ]
    },
    {
      "cell_type": "code",
      "execution_count": 59,
      "metadata": {
        "id": "xS5eLNqnZbaX"
      },
      "outputs": [],
      "source": [
        "# Paso 5: Codificar la variable objetivo\n",
        "label_encoder = LabelEncoder()\n",
        "y_train_encoded = label_encoder.fit_transform(y_train)\n",
        "y_test_encoded = label_encoder.transform(y_test)"
      ]
    },
    {
      "cell_type": "code",
      "execution_count": 60,
      "metadata": {
        "id": "h_ywW7Y6Zf-v"
      },
      "outputs": [],
      "source": [
        "# Paso 6: Crear el modelo de red neuronal LSTM\n",
        "# Configurar la semilla para TensorFlow\n",
        "import tensorflow as tf\n",
        "tf.random.set_seed(24)\n",
        "model = Sequential()\n",
        "model.add(Embedding(vocab_size, 100, input_length=max_sequence_length))\n",
        "model.add(LSTM(64, dropout=0.2, recurrent_dropout=0.2))\n",
        "model.add(Dense(1, activation='sigmoid'))"
      ]
    },
    {
      "cell_type": "code",
      "execution_count": 61,
      "metadata": {
        "id": "K8Q5Ud0qZj0w"
      },
      "outputs": [],
      "source": [
        "# Paso 7: Compilar y ajustar el modelo\n",
        "#model.compile(loss='binary_crossentropy', optimizer='adam', metrics=['accuracy'])\n",
        "#model.fit(X_train_padded, y_train_encoded, validation_data=(X_test_padded, y_test_encoded), epochs=10, batch_size=16)"
      ]
    },
    {
      "cell_type": "markdown",
      "source": [
        "**Nos quedamos unicamente con los elementos de testeo es decir las predicciones**"
      ],
      "metadata": {
        "id": "0iTQ1pVAs8wO"
      }
    },
    {
      "cell_type": "markdown",
      "source": [
        "**tomaremos todas las entidades de taslado conjunto de entrenamiento y prueba**"
      ],
      "metadata": {
        "id": "ij7UI-BQtQV2"
      }
    },
    {
      "cell_type": "code",
      "source": [
        "#calcularemos la entidad de traslado:\n",
        "# Obtener valores únicos de las columnas entidad de traslado y departamento unicamente para el caso de corporaciones autonomas\n",
        "departamento_entidad = filtered_df[filtered_df['categoria'] == 'Ambiente'][['departamento', 'ENTIDAD DE TRASLADO ']].drop_duplicates()\n",
        "departamento_entidad['ENTIDAD PREDICCION'] = departamento_entidad['ENTIDAD DE TRASLADO ']\n",
        "departamento_entidad = departamento_entidad[['ENTIDAD PREDICCION', 'departamento']]\n",
        "condicion = ~((departamento_entidad['departamento'] == 'bogota') & (departamento_entidad['ENTIDAD PREDICCION'] != 'Secretaría Distrital de Ambiente'))\n",
        "departamento_entidad = departamento_entidad[condicion]"
      ],
      "metadata": {
        "id": "JhTpcTInwnTT"
      },
      "execution_count": 62,
      "outputs": []
    },
    {
      "cell_type": "code",
      "source": [
        "departamento_entidad"
      ],
      "metadata": {
        "colab": {
          "base_uri": "https://localhost:8080/",
          "height": 423
        },
        "id": "I6pWt9h5v9ab",
        "outputId": "b458c49b-45ed-460c-dfe4-137d340d4909"
      },
      "execution_count": 63,
      "outputs": [
        {
          "output_type": "execute_result",
          "data": {
            "text/plain": [
              "                                    ENTIDAD PREDICCION departamento\n",
              "0        Corporación Autónoma Regional del Cauca - CRC        cauca\n",
              "3    Corporación Autónoma Regional de Boyacá – CORP...       boyaca\n",
              "5    Corporación Autónoma Regional de los Valles de...      cordoba\n",
              "11   Corporación Autónoma Regional del Magdalena - ...    magdalena\n",
              "14   Corporación Autónoma Regional de la Frontera N...    santander\n",
              "..                                                 ...          ...\n",
              "271        Corporación Autónoma Regional del Cauca CRC    santander\n",
              "278  Corporación Autónoma Regional de la Guajira  -...   la guajira\n",
              "279  Corporación Autónoma Regional del Caldas CORPO...       caldas\n",
              "280  Corporación Autónoma Regional de la Guajira CO...   la guajira\n",
              "285  Corporación Autónoma Regional del Alto Magdale...        cesar\n",
              "\n",
              "[69 rows x 2 columns]"
            ],
            "text/html": [
              "\n",
              "  <div id=\"df-ee1bbef4-30fb-4663-b8ba-42a0dc323cac\" class=\"colab-df-container\">\n",
              "    <div>\n",
              "<style scoped>\n",
              "    .dataframe tbody tr th:only-of-type {\n",
              "        vertical-align: middle;\n",
              "    }\n",
              "\n",
              "    .dataframe tbody tr th {\n",
              "        vertical-align: top;\n",
              "    }\n",
              "\n",
              "    .dataframe thead th {\n",
              "        text-align: right;\n",
              "    }\n",
              "</style>\n",
              "<table border=\"1\" class=\"dataframe\">\n",
              "  <thead>\n",
              "    <tr style=\"text-align: right;\">\n",
              "      <th></th>\n",
              "      <th>ENTIDAD PREDICCION</th>\n",
              "      <th>departamento</th>\n",
              "    </tr>\n",
              "  </thead>\n",
              "  <tbody>\n",
              "    <tr>\n",
              "      <th>0</th>\n",
              "      <td>Corporación Autónoma Regional del Cauca - CRC</td>\n",
              "      <td>cauca</td>\n",
              "    </tr>\n",
              "    <tr>\n",
              "      <th>3</th>\n",
              "      <td>Corporación Autónoma Regional de Boyacá – CORP...</td>\n",
              "      <td>boyaca</td>\n",
              "    </tr>\n",
              "    <tr>\n",
              "      <th>5</th>\n",
              "      <td>Corporación Autónoma Regional de los Valles de...</td>\n",
              "      <td>cordoba</td>\n",
              "    </tr>\n",
              "    <tr>\n",
              "      <th>11</th>\n",
              "      <td>Corporación Autónoma Regional del Magdalena - ...</td>\n",
              "      <td>magdalena</td>\n",
              "    </tr>\n",
              "    <tr>\n",
              "      <th>14</th>\n",
              "      <td>Corporación Autónoma Regional de la Frontera N...</td>\n",
              "      <td>santander</td>\n",
              "    </tr>\n",
              "    <tr>\n",
              "      <th>...</th>\n",
              "      <td>...</td>\n",
              "      <td>...</td>\n",
              "    </tr>\n",
              "    <tr>\n",
              "      <th>271</th>\n",
              "      <td>Corporación Autónoma Regional del Cauca CRC</td>\n",
              "      <td>santander</td>\n",
              "    </tr>\n",
              "    <tr>\n",
              "      <th>278</th>\n",
              "      <td>Corporación Autónoma Regional de la Guajira  -...</td>\n",
              "      <td>la guajira</td>\n",
              "    </tr>\n",
              "    <tr>\n",
              "      <th>279</th>\n",
              "      <td>Corporación Autónoma Regional del Caldas CORPO...</td>\n",
              "      <td>caldas</td>\n",
              "    </tr>\n",
              "    <tr>\n",
              "      <th>280</th>\n",
              "      <td>Corporación Autónoma Regional de la Guajira CO...</td>\n",
              "      <td>la guajira</td>\n",
              "    </tr>\n",
              "    <tr>\n",
              "      <th>285</th>\n",
              "      <td>Corporación Autónoma Regional del Alto Magdale...</td>\n",
              "      <td>cesar</td>\n",
              "    </tr>\n",
              "  </tbody>\n",
              "</table>\n",
              "<p>69 rows × 2 columns</p>\n",
              "</div>\n",
              "    <div class=\"colab-df-buttons\">\n",
              "\n",
              "  <div class=\"colab-df-container\">\n",
              "    <button class=\"colab-df-convert\" onclick=\"convertToInteractive('df-ee1bbef4-30fb-4663-b8ba-42a0dc323cac')\"\n",
              "            title=\"Convert this dataframe to an interactive table.\"\n",
              "            style=\"display:none;\">\n",
              "\n",
              "  <svg xmlns=\"http://www.w3.org/2000/svg\" height=\"24px\" viewBox=\"0 -960 960 960\">\n",
              "    <path d=\"M120-120v-720h720v720H120Zm60-500h600v-160H180v160Zm220 220h160v-160H400v160Zm0 220h160v-160H400v160ZM180-400h160v-160H180v160Zm440 0h160v-160H620v160ZM180-180h160v-160H180v160Zm440 0h160v-160H620v160Z\"/>\n",
              "  </svg>\n",
              "    </button>\n",
              "\n",
              "  <style>\n",
              "    .colab-df-container {\n",
              "      display:flex;\n",
              "      gap: 12px;\n",
              "    }\n",
              "\n",
              "    .colab-df-convert {\n",
              "      background-color: #E8F0FE;\n",
              "      border: none;\n",
              "      border-radius: 50%;\n",
              "      cursor: pointer;\n",
              "      display: none;\n",
              "      fill: #1967D2;\n",
              "      height: 32px;\n",
              "      padding: 0 0 0 0;\n",
              "      width: 32px;\n",
              "    }\n",
              "\n",
              "    .colab-df-convert:hover {\n",
              "      background-color: #E2EBFA;\n",
              "      box-shadow: 0px 1px 2px rgba(60, 64, 67, 0.3), 0px 1px 3px 1px rgba(60, 64, 67, 0.15);\n",
              "      fill: #174EA6;\n",
              "    }\n",
              "\n",
              "    .colab-df-buttons div {\n",
              "      margin-bottom: 4px;\n",
              "    }\n",
              "\n",
              "    [theme=dark] .colab-df-convert {\n",
              "      background-color: #3B4455;\n",
              "      fill: #D2E3FC;\n",
              "    }\n",
              "\n",
              "    [theme=dark] .colab-df-convert:hover {\n",
              "      background-color: #434B5C;\n",
              "      box-shadow: 0px 1px 3px 1px rgba(0, 0, 0, 0.15);\n",
              "      filter: drop-shadow(0px 1px 2px rgba(0, 0, 0, 0.3));\n",
              "      fill: #FFFFFF;\n",
              "    }\n",
              "  </style>\n",
              "\n",
              "    <script>\n",
              "      const buttonEl =\n",
              "        document.querySelector('#df-ee1bbef4-30fb-4663-b8ba-42a0dc323cac button.colab-df-convert');\n",
              "      buttonEl.style.display =\n",
              "        google.colab.kernel.accessAllowed ? 'block' : 'none';\n",
              "\n",
              "      async function convertToInteractive(key) {\n",
              "        const element = document.querySelector('#df-ee1bbef4-30fb-4663-b8ba-42a0dc323cac');\n",
              "        const dataTable =\n",
              "          await google.colab.kernel.invokeFunction('convertToInteractive',\n",
              "                                                    [key], {});\n",
              "        if (!dataTable) return;\n",
              "\n",
              "        const docLinkHtml = 'Like what you see? Visit the ' +\n",
              "          '<a target=\"_blank\" href=https://colab.research.google.com/notebooks/data_table.ipynb>data table notebook</a>'\n",
              "          + ' to learn more about interactive tables.';\n",
              "        element.innerHTML = '';\n",
              "        dataTable['output_type'] = 'display_data';\n",
              "        await google.colab.output.renderOutput(dataTable, element);\n",
              "        const docLink = document.createElement('div');\n",
              "        docLink.innerHTML = docLinkHtml;\n",
              "        element.appendChild(docLink);\n",
              "      }\n",
              "    </script>\n",
              "  </div>\n",
              "\n",
              "\n",
              "<div id=\"df-18afef7a-8de2-4e16-a99d-65c0ff44e889\">\n",
              "  <button class=\"colab-df-quickchart\" onclick=\"quickchart('df-18afef7a-8de2-4e16-a99d-65c0ff44e889')\"\n",
              "            title=\"Suggest charts\"\n",
              "            style=\"display:none;\">\n",
              "\n",
              "<svg xmlns=\"http://www.w3.org/2000/svg\" height=\"24px\"viewBox=\"0 0 24 24\"\n",
              "     width=\"24px\">\n",
              "    <g>\n",
              "        <path d=\"M19 3H5c-1.1 0-2 .9-2 2v14c0 1.1.9 2 2 2h14c1.1 0 2-.9 2-2V5c0-1.1-.9-2-2-2zM9 17H7v-7h2v7zm4 0h-2V7h2v10zm4 0h-2v-4h2v4z\"/>\n",
              "    </g>\n",
              "</svg>\n",
              "  </button>\n",
              "\n",
              "<style>\n",
              "  .colab-df-quickchart {\n",
              "      --bg-color: #E8F0FE;\n",
              "      --fill-color: #1967D2;\n",
              "      --hover-bg-color: #E2EBFA;\n",
              "      --hover-fill-color: #174EA6;\n",
              "      --disabled-fill-color: #AAA;\n",
              "      --disabled-bg-color: #DDD;\n",
              "  }\n",
              "\n",
              "  [theme=dark] .colab-df-quickchart {\n",
              "      --bg-color: #3B4455;\n",
              "      --fill-color: #D2E3FC;\n",
              "      --hover-bg-color: #434B5C;\n",
              "      --hover-fill-color: #FFFFFF;\n",
              "      --disabled-bg-color: #3B4455;\n",
              "      --disabled-fill-color: #666;\n",
              "  }\n",
              "\n",
              "  .colab-df-quickchart {\n",
              "    background-color: var(--bg-color);\n",
              "    border: none;\n",
              "    border-radius: 50%;\n",
              "    cursor: pointer;\n",
              "    display: none;\n",
              "    fill: var(--fill-color);\n",
              "    height: 32px;\n",
              "    padding: 0;\n",
              "    width: 32px;\n",
              "  }\n",
              "\n",
              "  .colab-df-quickchart:hover {\n",
              "    background-color: var(--hover-bg-color);\n",
              "    box-shadow: 0 1px 2px rgba(60, 64, 67, 0.3), 0 1px 3px 1px rgba(60, 64, 67, 0.15);\n",
              "    fill: var(--button-hover-fill-color);\n",
              "  }\n",
              "\n",
              "  .colab-df-quickchart-complete:disabled,\n",
              "  .colab-df-quickchart-complete:disabled:hover {\n",
              "    background-color: var(--disabled-bg-color);\n",
              "    fill: var(--disabled-fill-color);\n",
              "    box-shadow: none;\n",
              "  }\n",
              "\n",
              "  .colab-df-spinner {\n",
              "    border: 2px solid var(--fill-color);\n",
              "    border-color: transparent;\n",
              "    border-bottom-color: var(--fill-color);\n",
              "    animation:\n",
              "      spin 1s steps(1) infinite;\n",
              "  }\n",
              "\n",
              "  @keyframes spin {\n",
              "    0% {\n",
              "      border-color: transparent;\n",
              "      border-bottom-color: var(--fill-color);\n",
              "      border-left-color: var(--fill-color);\n",
              "    }\n",
              "    20% {\n",
              "      border-color: transparent;\n",
              "      border-left-color: var(--fill-color);\n",
              "      border-top-color: var(--fill-color);\n",
              "    }\n",
              "    30% {\n",
              "      border-color: transparent;\n",
              "      border-left-color: var(--fill-color);\n",
              "      border-top-color: var(--fill-color);\n",
              "      border-right-color: var(--fill-color);\n",
              "    }\n",
              "    40% {\n",
              "      border-color: transparent;\n",
              "      border-right-color: var(--fill-color);\n",
              "      border-top-color: var(--fill-color);\n",
              "    }\n",
              "    60% {\n",
              "      border-color: transparent;\n",
              "      border-right-color: var(--fill-color);\n",
              "    }\n",
              "    80% {\n",
              "      border-color: transparent;\n",
              "      border-right-color: var(--fill-color);\n",
              "      border-bottom-color: var(--fill-color);\n",
              "    }\n",
              "    90% {\n",
              "      border-color: transparent;\n",
              "      border-bottom-color: var(--fill-color);\n",
              "    }\n",
              "  }\n",
              "</style>\n",
              "\n",
              "  <script>\n",
              "    async function quickchart(key) {\n",
              "      const quickchartButtonEl =\n",
              "        document.querySelector('#' + key + ' button');\n",
              "      quickchartButtonEl.disabled = true;  // To prevent multiple clicks.\n",
              "      quickchartButtonEl.classList.add('colab-df-spinner');\n",
              "      try {\n",
              "        const charts = await google.colab.kernel.invokeFunction(\n",
              "            'suggestCharts', [key], {});\n",
              "      } catch (error) {\n",
              "        console.error('Error during call to suggestCharts:', error);\n",
              "      }\n",
              "      quickchartButtonEl.classList.remove('colab-df-spinner');\n",
              "      quickchartButtonEl.classList.add('colab-df-quickchart-complete');\n",
              "    }\n",
              "    (() => {\n",
              "      let quickchartButtonEl =\n",
              "        document.querySelector('#df-18afef7a-8de2-4e16-a99d-65c0ff44e889 button');\n",
              "      quickchartButtonEl.style.display =\n",
              "        google.colab.kernel.accessAllowed ? 'block' : 'none';\n",
              "    })();\n",
              "  </script>\n",
              "</div>\n",
              "    </div>\n",
              "  </div>\n"
            ]
          },
          "metadata": {},
          "execution_count": 63
        }
      ]
    },
    {
      "cell_type": "markdown",
      "source": [
        "Ahora unimos las entidades encontradas con nuestros elementos de testeo"
      ],
      "metadata": {
        "id": "aLGDkG0r7Xtj"
      }
    },
    {
      "cell_type": "code",
      "source": [
        "#tomamos los elementos originales del data frame con el que hicimos las predicciones\n",
        "elementos_test = filtered_df.loc[X_test_P.index]\n",
        "#para las predicciones nos quedamos con los elementos de el modelo de maquinas de soporte vectorial\n",
        "y_pred = clf.predict(X_test_vec)\n",
        "#unimos las predicciones a nuestro datframe de entrada\n",
        "elementos_test['prediccion']=y_pred\n",
        "# Reiniciar los índices para poder unir despues\n",
        "elementos_test = elementos_test.reset_index(drop=True)\n",
        "#3unimos la entidad de traslado a nuestro dataframe de pruebas\n",
        "elementos_test = pd.merge(elementos_test, departamento_entidad, on=['departamento'], how='left')\n"
      ],
      "metadata": {
        "id": "N4s7ap6ZRM3n"
      },
      "execution_count": 64,
      "outputs": []
    },
    {
      "cell_type": "markdown",
      "source": [
        "Ahora de acuerdo a la categorización previamente hecha recuperamos la entidad tomando la preddicón y el departamento"
      ],
      "metadata": {
        "id": "YbZalUZ3twSQ"
      }
    },
    {
      "cell_type": "code",
      "source": [
        "#en este chunck colocaremos la entidad de traslado correspondiente de acuerdo a la predicción obtenida\n",
        "condiciones = [\n",
        "    (elementos_test['prediccion'] == 'Autoridad'),\n",
        "    (elementos_test['prediccion'] == 'Parques' ),\n",
        "    (~elementos_test['prediccion'].isin(['Parques' , 'Autoridad']))\n",
        "]\n",
        "\n",
        "valores = ['Autoridad Nacional de Licencias Ambientales ANLA', 'Parques nacionales naturales de Colombia', elementos_test['ENTIDAD PREDICCION']]\n",
        "\n",
        "# Utilizar numpy.select para aplicar las condiciones\n",
        "elementos_test['ENTIDAD PREDICCION'] = np.select(condiciones, valores, default=elementos_test['ENTIDAD PREDICCION'])\n",
        "\n",
        "\n"
      ],
      "metadata": {
        "id": "u9PQNT7uSsHv"
      },
      "execution_count": 65,
      "outputs": []
    },
    {
      "cell_type": "code",
      "source": [
        "#eliminamos elementos que no tienen predicicón\n",
        "elementos_test=elementos_test[elementos_test['ENTIDAD PREDICCION'].notna()]"
      ],
      "metadata": {
        "id": "otIa0QMFVoXf"
      },
      "execution_count": 66,
      "outputs": []
    },
    {
      "cell_type": "markdown",
      "source": [
        "Empezaremos a crear la plantilla del pdf de salida del ciudadano y de la entidad"
      ],
      "metadata": {
        "id": "5_tCMY_tsZ3x"
      }
    },
    {
      "cell_type": "code",
      "source": [
        "#primera fila\n",
        "from datetime import datetime\n",
        "# Obtener la fecha actual en formato YYYY-MM-DD\n",
        "fecha_actual = datetime.today().strftime('%Y-%m-%d')\n",
        "# Concatenar \"Bogota DC\" y la fecha actual\n",
        "resultado = \"Bogota DC \" + fecha_actual\n",
        "# Mostrar el resultado\n",
        "print(resultado)\n",
        "elementos_test[\"ciudad_fecha\"]=resultado\n",
        "elementos_test[\"info_entidad\"]=str(\"Nombre:\")+elementos_test['ENTIDAD PREDICCION']+str(\"\\n\"+\"Pagina web:www........\\nTelefono\\nCorreo electronico:\\nDireccion\\nHorrario Atención:Lunes a viernes de 8:00 a.m. a 5:30 p.m.\")\n",
        "elementos_test[\"info_funcionario\"]=\"Coordialmente\\n\\n\\n\\n\\n\\nNombre funcionario\\nCargo funcionario\"\n",
        "elementos_test[\"info_director_entidad\"]=str(\"Señor\\nNombre Funcionario\\nDirector\\n\")+elementos_test['ENTIDAD PREDICCION']+\"\\nCorreo funcionario\\n \"\n",
        "elementos_test[\"Asunto_entidad\"]=\"Asunto:Traslado del Radicado No.\"+elementos_test[\"NUMERO DE RADICADO DE ENTRADA\"]\n",
        "#parrafo generico 1\n",
        "elementos_test[\"parrafo_E0\"]=\"Cordial saludo\\n \\nEl Ministerio de Ambiente y Desarrollo Sostenible informa que, de conformidad \\ncon lo dispuesto en el Ley 1755 de 2015, Articulo 21, se traslada por competencia a \\n\"+elementos_test['ENTIDAD PREDICCION']+  \",la petición\\ninterpuesta por el remitente del radicado para tratar los temas del adjunto \\n\"\n",
        "#parrafo generico 2\n",
        "elementos_test[\"parrafo_E1\"]=\"La solicitud interpuesta por el peticionario no es competencia de este Ministerio,\\nconforme lo establecido en el Decreto 3570 de 2011, que asignó a la Entidad\\nla función de definir la política Nacional Ambiental y promover la recuperación,\\nconservación, protección, ordenamiento,manejo, uso y aprovechamiento de los\\nrecursos naturales renovables, a fin de asegurar el desarrollo sostenible\\ny garantizar el derecho de todos los ciudadanos a gozar y heredar un ambiente sano. \"\n",
        "#parrafo autoridad\n",
        "elementos_test[\"parrafo_E2A\"]=\"El traslado se realiza en atención a las funciones y competencias del Autoridad Nacional\\nde Licencias Ambientales - ANLA, entidad encargada de los proyectos, obras \\no actividades sujetos de licenciamiento, permiso o trámite ambiental cumplan \\ncon la normativa ambiental, de tal manera que contribuyan al desarrollo sostenible\\n ambiental del País.\"\n",
        "#parrafo parque\n",
        "elementos_test[\"parrafo_E2P\"]=\"Este traslado se realiza en atención a las funciones y competencias de Parques Nacionales \\nNaturales de Colombia - PNNC, entidad encargada de administrar y Manejar las \\náreas a cargo de Parques Nacionales Naturales y coordinar el Sistema Nacional \\nde Áreas Protegidas (SINAP) de Colombia, promoviendo la participación de diversos\\nactores, con el propósito de conservar la diversidad biológica y cultural del país, \\ncontribuyendo al desarrollo sostenible y a un medio ambiente sano.\"\n",
        "#parrafo corporación\n",
        "elementos_test[\"parrafo_E2C\"]=\"El traslado se realiza en atención a las funciones y competencias de \\n\"+elementos_test['ENTIDAD PREDICCION']+ \", entidad\\n“responsable de ejecutar las políticas, planes,programas y proyectos sobre medio\\nambiente y recursos naturales renovables, así como dar cumplida y oportuna\\naplicación a las disposiciones legales vigentes sobre su disposición, administración, manejo\\ny aprovechamiento, conforme a las regulaciones, pautas y directrices expedidas por\\nel Ministerio del Medio Ambiente”.\"\n",
        "#parrafo secreytaria\n",
        "elementos_test[\"parrafo_E2S\"]=\"Este traslado se realiza en atención a las funciones y competencias de la Secretaría \\nDistrital de Ambiente - SDA, entidad encargada “como autoridad ambiental del Distrito \\nCapital propender por el desarrollo sostenible de la ciudad, formulando promoviendo y \\norientando políticas, planes y programas que permitan la conservación, protección y \\nrecuperación del ambiente y de los bienes y servicios naturales de la Estructura Ecológica \\nPrincipal y de las áreas de interés ambiental; para mejorar su calidad de vida, la relación\\nentre la población y el entorno natural, el disfrute de los derechos fundamentales\\ny colectivos del ambiente, respondiendo a las acciones encaminadas a  la adaptación y\\nmitigación al cambio climático,reverdeciendo a Bogotá y promoviendo la participación de\\nla ciudadanía en todas sus dimensiones y el cambio de los hábitos de vida”.\"\n",
        "#parrafor generico 4\n",
        "elementos_test[\"parrafo_E3\"]=\"En atención al marco legal, el Ministerio solicita remitir respuesta de fondo al/los ciudadanos/s\\na quien estamos informando de la presente actuación, y dentro de los \\ntérminos de colaboración entre autoridades se solicita remitir copia de la respuesta\\na este Ministerio, citando el radicado del asunto.\"\n",
        "#info ciudadano\n",
        "elementos_test[\"Info_ciudadano\"]=\"Acontinuación, se relacion los datos del peticionario\\n\\nNombre:\\nDirección:\\nCorreo electronico:\\nDepartamento:\"\n",
        "\n"
      ],
      "metadata": {
        "colab": {
          "base_uri": "https://localhost:8080/"
        },
        "id": "_y9ACZBFYxaa",
        "outputId": "99d3fc0f-60ca-4503-ba60-62f12e2daab9"
      },
      "execution_count": 67,
      "outputs": [
        {
          "output_type": "stream",
          "name": "stdout",
          "text": [
            "Bogota DC 2023-11-14\n"
          ]
        }
      ]
    },
    {
      "cell_type": "code",
      "source": [
        "import pandas as pd\n",
        "import numpy as np\n",
        "# condiones para definir el parrafo 3\n",
        "condiciones = [\n",
        "    elementos_test['ENTIDAD PREDICCION'].str.contains(\"Corporación\"),\n",
        "    elementos_test['ENTIDAD PREDICCION'].str.contains(\"Secretaría\"),\n",
        "    elementos_test['ENTIDAD PREDICCION'].str.contains(\"Parques\"),\n",
        "    elementos_test['ENTIDAD PREDICCION'].str.contains(\"Autoridad\")\n",
        "]\n",
        "#parrafo seleccionado\n",
        "opciones = [elementos_test[\"parrafo_E2C\"], elementos_test[\"parrafo_E2S\"],elementos_test[\"parrafo_E2P\"], elementos_test[\"parrafo_E2A\"]]\n",
        "# Crea la nueva columna con parrafo 3\n",
        "elementos_test['parrafo_E2'] = np.select(condiciones, opciones, default=None)"
      ],
      "metadata": {
        "id": "P1kUJrzlayoA"
      },
      "execution_count": 68,
      "outputs": []
    },
    {
      "cell_type": "markdown",
      "source": [
        "Creamos el pdf del la entidad a la que se traslada"
      ],
      "metadata": {
        "id": "6gL8qon76196"
      }
    },
    {
      "cell_type": "code",
      "source": [
        "p=32#petición de salida\n",
        "from reportlab.pdfgen import canvas\n",
        "from reportlab.lib.pagesizes import letter\n",
        "from reportlab.lib.units import inch\n",
        "from reportlab.lib.utils import ImageReader\n",
        "# Crear un nuevo archivo PDF\n",
        "pdf_path = str(\"respuesta traslado radicado \"+elementos_test.iloc[p,0]+\".pdf\")\n",
        "c = canvas.Canvas(pdf_path, pagesize=letter)\n",
        "\n",
        "# Configurar el tamaño de la fuente\n",
        "font_size = 12\n",
        "c.setFont(\"Helvetica\", font_size)\n",
        "# Definir la posición de la imagen\n",
        "x, y = 80, 700\n",
        "# Cargar la imagen\n",
        "imagen_path = \"/content/drive/MyDrive/Traslados por competencia/logo ministerio ambiente.png\"  # Reemplaza con la ruta de tu imagen\n",
        "imagen = ImageReader(imagen_path)\n",
        "\n",
        "# Ajustar el tamaño de la imagen si es necesario\n",
        "ancho, alto = 500, 80  # Puedes ajustar estos valores según tus necesidades\n",
        "\n",
        "# Agregar la imagen al PDF\n",
        "c.drawImage(imagen, x, y, width=ancho, height=alto)\n",
        "\n",
        "\n",
        "# Definir las coordenadas iniciales para el texto\n",
        "x, y = 80, 670\n",
        "\n",
        "# Agregar texto bogota fecha\n",
        "for line in elementos_test.iloc[p,8].split('\\n'):\n",
        "    c.drawString(x, y, line)\n",
        "    y -= font_size + 2  # Separación entre líneas\n",
        "\n",
        "# Agregar información director entidad\n",
        "x, y = 80, 620\n",
        "for line in elementos_test.iloc[p,11].split('\\n'):\n",
        "    c.drawString(x, y, line)\n",
        "    y -= font_size + 2  # Separación entre líneas\n",
        "\n",
        "# Agregar Asunto\n",
        "x, y = 80, 520\n",
        "for line in elementos_test.iloc[p,12].split('\\n'):\n",
        "    c.drawString(x, y, line)\n",
        "    y -= font_size + 2  # Separación entre líneas\n",
        "\n",
        "# Agregar parrafo\n",
        "x, y = 80, 490\n",
        "for line in elementos_test.iloc[p,13].split('\\n'):\n",
        "    c.drawString(x, y, line)\n",
        "    y -= font_size + 2  # Separación entre líneas\n",
        "\n",
        "# Agregar parrafo\n",
        "x, y = 80, 400\n",
        "for line in elementos_test.iloc[p,14].split('\\n'):\n",
        "    c.drawString(x, y, line)\n",
        "    y -= font_size + 2  # Separación entre líneas\n",
        "\n",
        "\n",
        "\n",
        "# Agregar parrafo\n",
        "x, y = 80, 310\n",
        "for line in elementos_test.iloc[p,21].split('\\n'):\n",
        "    c.drawString(x, y, line)\n",
        "    y -= font_size + 2  # Separación entre líneas\n",
        "\n",
        "# Definir la posición de la imagen\n",
        "x, y = 80, 50\n",
        "# Cargar la imagen\n",
        "imagen_path = \"/content/drive/MyDrive/Traslados por competencia/info ministerio ambiente.png\"  # Reemplaza con la ruta de tu imagen\n",
        "imagen = ImageReader(imagen_path)\n",
        "\n",
        "# Ajustar el tamaño de la imagen si es necesario\n",
        "ancho, alto = 500, 80  # Puedes ajustar estos valores según tus necesidades\n",
        "\n",
        "# Agregar la imagen al PDF\n",
        "c.drawImage(imagen, x, y, width=ancho, height=alto)\n",
        "\n",
        "# Agregar una nueva página\n",
        "c.showPage()\n",
        "# Definir las coordenadas iniciales para el texto\n",
        "# Definir la posición de la imagen\n",
        "x, y = 80, 700\n",
        "# Cargar la imagen\n",
        "imagen_path = \"/content/drive/MyDrive/Traslados por competencia/logo ministerio ambiente.png\"  # Reemplaza con la ruta de tu imagen\n",
        "imagen = ImageReader(imagen_path)\n",
        "\n",
        "# Ajustar el tamaño de la imagen si es necesario\n",
        "ancho, alto = 500, 80  # Puedes ajustar estos valores según tus necesidades\n",
        "\n",
        "# Agregar la imagen al PDF\n",
        "c.drawImage(imagen, x, y, width=ancho, height=alto)\n",
        "\n",
        "x, y = 80, 670\n",
        "\n",
        "# Agregar texto bogota fecha\n",
        "for line in elementos_test.iloc[p,19].split('\\n'):\n",
        "    c.drawString(x, y, line)\n",
        "    y -= font_size + 2  # Separación entre líneas\n",
        "\n",
        "x, y = 80, 590\n",
        "\n",
        "# Agregar texto bogota fecha\n",
        "for line in elementos_test.iloc[p,20].split('\\n'):\n",
        "    c.drawString(x, y, line)\n",
        "    y -= font_size + 2  # Separación entre líneas\n",
        "# Agregar info funcionaria que envia\n",
        "x, y = 80, 360\n",
        "for line in elementos_test.iloc[p,10].split('\\n'):\n",
        "    c.drawString(x, y, line)\n",
        "    y -= font_size + 2  # Separación entre líneas\n",
        "\n",
        "\n",
        "\n",
        "# Definir la posición de la imagen\n",
        "x, y = 80, 50\n",
        "# Cargar la imagen\n",
        "imagen_path = \"/content/drive/MyDrive/Traslados por competencia/info ministerio ambiente.png\"  # Reemplaza con la ruta de tu imagen\n",
        "imagen = ImageReader(imagen_path)\n",
        "\n",
        "# Ajustar el tamaño de la imagen si es necesario\n",
        "ancho, alto = 500, 80  # Puedes ajustar estos valores según tus necesidades\n",
        "\n",
        "# Agregar la imagen al PDF\n",
        "c.drawImage(imagen, x, y, width=ancho, height=alto)\n",
        "\n",
        "c.save()\n",
        "\n",
        "print(f\"El archivo PDF ha sido creado en: {pdf_path}\")"
      ],
      "metadata": {
        "colab": {
          "base_uri": "https://localhost:8080/"
        },
        "id": "I02hUs4UiZPz",
        "outputId": "d2bd40bd-b937-4ca8-9aac-bd0495831c63"
      },
      "execution_count": 69,
      "outputs": [
        {
          "metadata": {
            "tags": null
          },
          "name": "stdout",
          "output_type": "stream",
          "text": [
            "El archivo PDF ha sido creado en: respuesta traslado radicado 2022E1045126.pdf\n"
          ]
        }
      ]
    },
    {
      "cell_type": "markdown",
      "source": [
        "Empezaremos a crear el texto de salida"
      ],
      "metadata": {
        "id": "WwG2oJaJIT-x"
      }
    }
  ],
  "metadata": {
    "colab": {
      "provenance": [],
      "include_colab_link": true
    },
    "kernelspec": {
      "display_name": "Python 3",
      "name": "python3"
    },
    "language_info": {
      "codemirror_mode": {
        "name": "ipython",
        "version": 3
      },
      "file_extension": ".py",
      "mimetype": "text/x-python",
      "name": "python",
      "nbconvert_exporter": "python",
      "pygments_lexer": "ipython3",
      "version": "3.9.7"
    }
  },
  "nbformat": 4,
  "nbformat_minor": 0
}